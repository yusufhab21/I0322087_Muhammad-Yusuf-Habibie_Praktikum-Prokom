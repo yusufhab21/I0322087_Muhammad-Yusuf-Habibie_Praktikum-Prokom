{
 "cells": [
  {
   "cell_type": "code",
   "execution_count": 1,
   "metadata": {},
   "outputs": [
    {
     "name": "stdout",
     "output_type": "stream",
     "text": [
      "Muhammad Yusuf Habibie\n",
      "I0322087\n",
      "Teknik Industri C\n"
     ]
    }
   ],
   "source": [
    "print(input(\"Nama: \"))\n",
    "print(input(\"NIM: \"))\n",
    "print(input(\"Kelas: \"))"
   ]
  },
  {
   "attachments": {},
   "cell_type": "markdown",
   "metadata": {},
   "source": [
    "## 1."
   ]
  },
  {
   "attachments": {},
   "cell_type": "markdown",
   "metadata": {},
   "source": [
    "buatlah program sederhana untuk:\n",
    "* **A** mencari massa jika diketahui nilai energi potensial, percepatan gravitasi, dan ketinggian benda! beserta rumus nya!\n",
    "* **B** mencari gaya apung jika diketahui massa jenis, tinggi, panjang, dan lebar benda serta percepatan gravitasi dan contohnya! beserta rumus nya!\n",
    "* **C** Tulis program Python untuk menghitung luas dari segi lima sama sisi!\n",
    "\n",
    "> *note* : rumus, contoh, dan nilai dari tiap variabel ditentukan oleh kalian sendiri dan gunakan satuan baku (SI) untuk menghitung nilai dari tiap variabel"
   ]
  },
  {
   "cell_type": "code",
   "execution_count": 2,
   "metadata": {},
   "outputs": [
    {
     "name": "stdout",
     "output_type": "stream",
     "text": [
      "Berapakah massa jenis benda jika diketahui ketinggian benda 10 meter, energi potensial 500 Joule, dan percepatan gravitasi 10 m/s**2 ? \n",
      "Energi Potensial = Massa benda (m) * Gravitasi bumi (g) * Tinggi benda (h)\n",
      "Massa benda = Energi potensial / Gravitasi bumi * Tinggi benda \n",
      "Massa benda =  500.0 Kg\n"
     ]
    },
    {
     "data": {
      "text/plain": [
       "'=========selesai========='"
      ]
     },
     "execution_count": 2,
     "metadata": {},
     "output_type": "execute_result"
    }
   ],
   "source": [
    "# A. Menghitung Massa benda (Kg), jika diketahui energi potensial (joule), tinggi (meter), dan gravitasi (m/s**2)\n",
    "\n",
    "energi_potensialBenda = float(input(\"Masukkan nilai dari energi potensial benda = \")) #Joule\n",
    "Tinggi_benda = float(input(\"Masukkan nilai dari tinggi benda = \")) #Meter\n",
    "Percepatan_gravitasi = 10 # M/S**2\n",
    "massa_benda = energi_potensialBenda/Tinggi_benda*Percepatan_gravitasi\n",
    "print(\"Berapakah massa jenis benda jika diketahui ketinggian benda 10 meter, energi potensial 500 Joule, dan percepatan gravitasi 10 m/s**2 ? \")\n",
    "print(\"Energi Potensial = Massa benda (m) * Gravitasi bumi (g) * Tinggi benda (h)\")\n",
    "print(\"Massa benda = Energi potensial / Gravitasi bumi * Tinggi benda \")\n",
    "print(\"Massa benda = \", massa_benda, \"Kg\")\n",
    "(\"=========selesai=========\")"
   ]
  },
  {
   "cell_type": "code",
   "execution_count": 3,
   "metadata": {},
   "outputs": [
    {
     "name": "stdout",
     "output_type": "stream",
     "text": [
      "Berapakah gaya apung benda tersebut jika benda tercelum seluruhnya jika diketahui massa jenis 1000 Kg/m**3, tinggi 0.3 meter, panjang 0.2 meter, lebar 0.1 meter? \n",
      "Gaya apung = Massa jenis benda * Gravitasi bumi * Volume benda \n",
      "Gaya apung benda adalah =  60.00000000000001 N\n"
     ]
    },
    {
     "data": {
      "text/plain": [
       "'=========selesai========='"
      ]
     },
     "execution_count": 3,
     "metadata": {},
     "output_type": "execute_result"
    }
   ],
   "source": [
    "# B. Mencari gaya apung (Newton), jika diketahui massa jenis benda (Kg/m**3), tinggi benda (meter), panjang benda (meter), dan lebar benda (meter).\n",
    "MassaJenisBenda = float(input(\"Masukkan massa jenis benda yang akan dicari = \"))\n",
    "TinggiBenda = float(input(\"Masukkan tinggi benda = \"))\n",
    "PanjangBenda = float(input(\"Masukkan panjang benda = \"))\n",
    "LebarBenda = float(input(\"Masukkan lebar benda = \"))\n",
    "VolumeBenda = PanjangBenda * LebarBenda * TinggiBenda\n",
    "gravitasi = 10 #m/s**2\n",
    "GayaApung = MassaJenisBenda * VolumeBenda * gravitasi\n",
    "print(\"Berapakah gaya apung benda tersebut jika benda tercelum seluruhnya jika diketahui massa jenis 1000 Kg/m**3, tinggi 0.3 meter, panjang 0.2 meter, lebar 0.1 meter? \")\n",
    "print(\"Gaya apung = Massa jenis benda * Gravitasi bumi * Volume benda \")\n",
    "print(\"Gaya apung benda adalah = \", GayaApung, \"N\")\n",
    "(\"=========selesai=========\")\n",
    "\n"
   ]
  },
  {
   "cell_type": "code",
   "execution_count": 4,
   "metadata": {},
   "outputs": [
    {
     "name": "stdout",
     "output_type": "stream",
     "text": [
      "Diketahui segilima sama sisi dengan panjang sisinya 0.25 Meter. Hitung luas segilima tersebut! \n",
      "Luas segilima sama sisi adalah = 1/4 * (5)*1/2 * (5+2*(5)*1/2) * Sisi*2 \n",
      "Luas segilima tersebut adalah =  1.3237712429686843 Meter\n"
     ]
    },
    {
     "data": {
      "text/plain": [
       "'=========selesai========='"
      ]
     },
     "execution_count": 4,
     "metadata": {},
     "output_type": "execute_result"
    }
   ],
   "source": [
    "# C. Menghitung luas segilima sama sisi\n",
    "panjangSisi = float(input(\"Masukkan panjang sisi dari segilima = \")) #Meter\n",
    "import math\n",
    "luasSegilima = 1/4 * math.sqrt(5) * (5 + 2 * math.sqrt(5)) * panjangSisi**2\n",
    "print(\"Diketahui segilima sama sisi dengan panjang sisinya 0.25 Meter. Hitung luas segilima tersebut! \")\n",
    "print(\"Luas segilima sama sisi adalah = 1/4 * (5)*1/2 * (5+2*(5)*1/2) * Sisi*2 \")\n",
    "print(\"Luas segilima tersebut adalah = \", luasSegilima, \"Meter\")\n",
    "(\"=========selesai=========\")\n"
   ]
  },
  {
   "attachments": {},
   "cell_type": "markdown",
   "metadata": {},
   "source": [
    "## 2."
   ]
  },
  {
   "attachments": {},
   "cell_type": "markdown",
   "metadata": {},
   "source": [
    "Taman bermain ANCOL memiliki berbagai wahana, salah satunya adalah bianglala. Harga tiket yang dijual berbeda tergantung dengan kategori nya. Harga tiket bagi orang dewasa atau yang berumur lebih dari 17 tahun adalah Rp 110.000 , harga tiket untuk anak-anak usia 6-16 tahun adalah Rp. 75.000 , sedangkan untuk usia dibawahnya tidak dikenakan biaya. Pada wahana bianglala sedang ada \"Promo RAMADHAN\" sebesar 20% bagi pembelian tiket lebih dari 2 pcs.\n",
    "\n",
    "Keluarga Anya Forger ingin menaiki wahana bianglala tersebut, Anya (usia 18 tahun) pergi bersama ayah dan ibunya beserta dua adiknya, Harry (usia 8 tahun) dan Taylor (usia 4 tahun). \n",
    "\n",
    "> Buatlah program sederhana untuk menghitung harga total dari pembelian tiket  oleh keluarga Anya dan harga tiket setelah mendapatkan diskon"
   ]
  },
  {
   "cell_type": "code",
   "execution_count": 5,
   "metadata": {},
   "outputs": [
    {
     "name": "stdout",
     "output_type": "stream",
     "text": [
      "\n",
      "Jumlah pengunjung dewasa adalah =  6\n",
      "Jumlah pengunjung anak-anak =   4\n",
      "\n",
      "SELAMAT, ANDA MENDAPATKAN DISKON 20%.  Total pembayaran Anda adalah = Rp  768000.0\n",
      "=============================Terima kasih atas kunjungan Anda=============================\n"
     ]
    }
   ],
   "source": [
    "# 2. MENGITUNG JUMLAH TOTAL BAYAR\n",
    "Dewasa = int(input(\"Berapa jumlah orang dewasa = \"))\n",
    "Anakanak = int(input(\"Berapa jumlah anak-anak =  \"))\n",
    "Balita = 0 #gratis\n",
    "print()\n",
    "#MENGHITUNG TOTAL TIKET YANG DIBELI\n",
    "TotalTiket = (Dewasa) + (Anakanak)\n",
    "print(\"Jumlah pengunjung dewasa adalah = \", Dewasa)\n",
    "print(\"Jumlah pengunjung anak-anak =  \", Anakanak)\n",
    "print()\n",
    "#TENTUKAN DAPAT DISKON ATAU TIDAK\n",
    "if TotalTiket >2:\n",
    "    Status = \"SELAMAT, ANDA MENDAPATKAN DISKON 20%. \"\n",
    "    HargaAwal = (Dewasa * 110000 + Anakanak * 75000)\n",
    "    Diskon = (Dewasa * 110000 + Anakanak * 75000) * 0.2\n",
    "    TotalBayar = HargaAwal - Diskon\n",
    "    print(Status, \"Total pembayaran Anda adalah = Rp \", TotalBayar)\n",
    "    print(\"=============================Terima kasih atas kunjungan Anda=============================\")\n",
    "else :\n",
    "    Status = \"MAAF, ANDA TIDAK MENDAPATKAN DISKON. \"\n",
    "    TotalBayar = (Dewasa * 110000 + Anakanak * 75000)\n",
    "    print(Status, \"Total pembayaran Anda adalah = Rp \", TotalBayar,) \n",
    "    print(\"=============================Terima kasih atas kunjungan Anda=============================\")\n",
    "    \n",
    "\n",
    "\n",
    "\n",
    "\n",
    "  "
   ]
  },
  {
   "attachments": {},
   "cell_type": "markdown",
   "metadata": {},
   "source": [
    "diberikan list aslab sebagai berikut:\n",
    "```python\n",
    "list_aslab = [\n",
    "    {\"nama\": \"Berlian Safri Prakoso\", \"nim\": \"I0320017\", \"kontak\": \"0858XXXXXXXX\"},\n",
    "    {\"nama\": \"Halidya Siti Hanifah\", \"nim\": \"I0320044\", \"kontak\": \"0878XXXXXXXX\"},\n",
    "    {\"nama\": \"Nurki Putra Mahardika\", \"nim\": \"I0320076\", \"kontak\": \"0877XXXXXXXX\"},\n",
    "    {\"nama\": \"Aji Manarul Aziz\", \"nim\": \"I0320119\", \"kontak\": \"0812XXXXXXXX\"},\n",
    "    {\"nama\": \"Alica Ayu Fitriani\", \"nim\": \"I0320121\", \"kontak\": \"0896XXXXXXXX\"},\n",
    "    {\"nama\": \"Dendy Halim Kusuma\", \"nim\": \"I0320125\", \"kontak\": \"0822XXXXXXXX\"}\n",
    "]\n",
    "```\n",
    "* **A** Tuliskan kode untuk mengakses informasi tentang \"nama\" dari semua aslab mulai dari index 1 sampai 5\n",
    "* **B** Tambahkan informasi berikut pada data aslab dan tampilkan hasilnya:\n",
    "```python\n",
    "    surel = [\"berlian@student.uns.ac.id\",\n",
    "          \"halidya@student.uns.ac.id\",\n",
    "          \"nurki@student.uns.ac.id\",\n",
    "          \"manarul@student.uns.ac.id\",\n",
    "          \"alica@student.uns.ac.id\",\n",
    "          \"dendy@student.uns.ac.id\"]\n",
    "```\n",
    "* **C** Hapus nilai pada kunci \"kontak\" pada list aslab dan tampilkan hasilnya\n",
    "> *note: kalian hanya boleh menggunakan key-value pair yang disebutkan di dalam teks, tanpa menggunakan informasi tambahan yang diambil pada list yang ada*"
   ]
  },
  {
   "cell_type": "code",
   "execution_count": 6,
   "metadata": {},
   "outputs": [
    {
     "name": "stdout",
     "output_type": "stream",
     "text": [
      "Halidya Siti Habifah\n",
      "Nurki Putra Mahardika\n",
      "Aji Manarul Aziz\n",
      "Alica Ayu Fitriani\n",
      "Dendy Halim Kusuma\n",
      "======================BATAS======================\n",
      "[{'Nama': 'Berlian Safri Prakoso', 'Nim': 'I0320017', 'Kontak': '0858XXXXXXXX', 'Email': ('berlian@student.uns.ac.id',)}, {'Nama': 'Halidya Siti Habifah', 'Nim': ' I0320044', 'Kontak': '0878XXXXXXXX', 'Email': ('halidya@student.uns.ac.id',)}, {'Nama': 'Nurki Putra Mahardika', 'Nim': ' I0320076', 'Kontak': '0877XXXXXXXX', 'Email': ('nurki@student.uns.ac.id',)}, {'Nama': 'Aji Manarul Aziz', 'Nim': ' I0320119', 'Kontak': '0812XXXXXXX', 'Email': ('manarul@student.uns.ac.id',)}, {'Nama': 'Alica Ayu Fitriani', 'Nim': ' I0320121', 'Kontak': '0896XXXXXXX', 'Email': ('alica@student.uns.ac.id',)}, {'Nama': 'Dendy Halim Kusuma', 'Nim': ' I0320125', 'Kontak': '0822XXXXXXXX', 'Email': ('dendy@student.uns.ac.id',)}]\n",
      "======================BATAS======================\n",
      "[{'Nama': 'Berlian Safri Prakoso', 'Nim': 'I0320017', 'Email': ('berlian@student.uns.ac.id',)}, {'Nama': 'Halidya Siti Habifah', 'Nim': ' I0320044', 'Email': ('halidya@student.uns.ac.id',)}, {'Nama': 'Nurki Putra Mahardika', 'Nim': ' I0320076', 'Email': ('nurki@student.uns.ac.id',)}, {'Nama': 'Aji Manarul Aziz', 'Nim': ' I0320119', 'Email': ('manarul@student.uns.ac.id',)}, {'Nama': 'Alica Ayu Fitriani', 'Nim': ' I0320121', 'Email': ('alica@student.uns.ac.id',)}, {'Nama': 'Dendy Halim Kusuma', 'Nim': ' I0320125', 'Email': ('dendy@student.uns.ac.id',)}]\n"
     ]
    }
   ],
   "source": [
    "# A. AKSES INFORMASI NAMA ASLAB INDEKS 1 - 5\n",
    "ListAslab =[\n",
    "    {   \"Nama\" : \"Berlian Safri Prakoso\", \"Nim\" : \"I0320017\", \"Kontak\" : \"0858XXXXXXXX\"},\n",
    "    {   \"Nama\" : \"Halidya Siti Habifah\", \"Nim\" : \" I0320044\", \"Kontak\" : \"0878XXXXXXXX\"},\n",
    "    {   \"Nama\" : \"Nurki Putra Mahardika\", \"Nim\" : \" I0320076\", \"Kontak\" : \"0877XXXXXXXX\"},\n",
    "    {   \"Nama\" : \"Aji Manarul Aziz\", \"Nim\" : \" I0320119\", \"Kontak\" : \"0812XXXXXXX\"},\n",
    "    {   \"Nama\" : \"Alica Ayu Fitriani\", \"Nim\" : \" I0320121\", \"Kontak\" : \"0896XXXXXXX\"},\n",
    "    {   \"Nama\" : \"Dendy Halim Kusuma\", \"Nim\" : \" I0320125\", \"Kontak\" : \"0822XXXXXXXX\"},\n",
    "]\n",
    "    \n",
    "print(ListAslab[1]['Nama'])\n",
    "print(ListAslab[2]['Nama'])\n",
    "print(ListAslab[3]['Nama'])\n",
    "print(ListAslab[4]['Nama'])\n",
    "print(ListAslab[-1]['Nama'])\n",
    "print(\"======================BATAS======================\")\n",
    "\n",
    "# B. MENAMBAHKAN INFORMASI PADA DATA ASLAB\n",
    "ListAslab[0]['Email'] = \"berlian@student.uns.ac.id\",\n",
    "ListAslab[1]['Email'] = \"halidya@student.uns.ac.id\",\n",
    "ListAslab[2]['Email'] = \"nurki@student.uns.ac.id\",\n",
    "ListAslab[3]['Email'] = \"manarul@student.uns.ac.id\",\n",
    "ListAslab[4]['Email'] = \"alica@student.uns.ac.id\",\n",
    "ListAslab[5]['Email'] = \"dendy@student.uns.ac.id\",\n",
    "print(ListAslab)\n",
    "\n",
    "print(\"======================BATAS======================\")\n",
    "# C. MENGHAPUS NILAI KONTAK PADA ASLAB\n",
    "del ListAslab[0]['Kontak']\n",
    "del ListAslab[1]['Kontak']\n",
    "del ListAslab[2]['Kontak']\n",
    "del ListAslab[3]['Kontak']\n",
    "del ListAslab[4]['Kontak']\n",
    "del ListAslab[5]['Kontak']\n",
    "\n",
    "print(ListAslab)\n",
    "\n",
    "\n",
    "\n"
   ]
  },
  {
   "cell_type": "code",
   "execution_count": 7,
   "metadata": {},
   "outputs": [
    {
     "name": "stdout",
     "output_type": "stream",
     "text": [
      "1 {'Nama': 'Halidya Siti Habifah', 'Nim': ' I0320044', 'Kontak': '0878XXXXXXXX'}\n",
      "2 {'Nama': 'Nurki Putra Mahardika', 'Nim': ' I0320076', 'Kontak': '0877XXXXXXXX'}\n",
      "3 {'Nama': 'Aji Manarul Aziz', 'Nim': ' I0320119', 'Kontak': '0812XXXXXXX'}\n",
      "4 {'Nama': 'Alica Ayu Fitriani', 'Nim': ' I0320121', 'Kontak': '0896XXXXXXX'}\n",
      "5 {'Nama': 'Dendy Halim Kusuma', 'Nim': ' I0320125', 'Kontak': '0822XXXXXXXX'}\n",
      "======================BATAS======================\n",
      "0 {'Nama': 'Berlian Safri Prakoso', 'Nim': 'I0320017', 'Kontak': '0858XXXXXXXX'} berlian@student.uns.ac.id\n",
      "1 {'Nama': 'Halidya Siti Habifah', 'Nim': ' I0320044', 'Kontak': '0878XXXXXXXX'} halidya@student.uns.ac.id\n",
      "2 {'Nama': 'Nurki Putra Mahardika', 'Nim': ' I0320076', 'Kontak': '0877XXXXXXXX'} nurki@student.uns.ac.id\n",
      "3 {'Nama': 'Aji Manarul Aziz', 'Nim': ' I0320119', 'Kontak': '0812XXXXXXX'} manarul@student.uns.ac.id\n",
      "4 {'Nama': 'Alica Ayu Fitriani', 'Nim': ' I0320121', 'Kontak': '0896XXXXXXX'} alica@student.uns.ac.id\n",
      "5 {'Nama': 'Dendy Halim Kusuma', 'Nim': ' I0320125', 'Kontak': '0822XXXXXXXX'} dendy@student.uns.ac.id\n",
      "======================BATAS======================\n",
      "{'Nama': 'Berlian Safri Prakoso', 'Nim': 'I0320017'}\n",
      "{'Nama': 'Halidya Siti Habifah', 'Nim': ' I0320044'}\n",
      "{'Nama': 'Nurki Putra Mahardika', 'Nim': ' I0320076'}\n",
      "{'Nama': 'Aji Manarul Aziz', 'Nim': ' I0320119'}\n",
      "{'Nama': 'Alica Ayu Fitriani', 'Nim': ' I0320121'}\n",
      "{'Nama': 'Dendy Halim Kusuma', 'Nim': ' I0320125'}\n"
     ]
    }
   ],
   "source": [
    "# A. AKSES INFORMASI NAMA ASLAB INDEKS 1 - 5\n",
    "ListAslab =[\n",
    "    {   \"Nama\" : \"Berlian Safri Prakoso\", \"Nim\" : \"I0320017\", \"Kontak\" : \"0858XXXXXXXX\"},\n",
    "    {   \"Nama\" : \"Halidya Siti Habifah\", \"Nim\" : \" I0320044\", \"Kontak\" : \"0878XXXXXXXX\"},\n",
    "    {   \"Nama\" : \"Nurki Putra Mahardika\", \"Nim\" : \" I0320076\", \"Kontak\" : \"0877XXXXXXXX\"},\n",
    "    {   \"Nama\" : \"Aji Manarul Aziz\", \"Nim\" : \" I0320119\", \"Kontak\" : \"0812XXXXXXX\"},\n",
    "    {   \"Nama\" : \"Alica Ayu Fitriani\", \"Nim\" : \" I0320121\", \"Kontak\" : \"0896XXXXXXX\"},\n",
    "    {   \"Nama\" : \"Dendy Halim Kusuma\", \"Nim\" : \" I0320125\", \"Kontak\" : \"0822XXXXXXXX\"},\n",
    "]\n",
    "\n",
    "def tampil_data():\n",
    "    for i in range (1,len(ListAslab)) :\n",
    "        print(i,ListAslab[i])\n",
    "tampil_data()\n",
    "\n",
    "print(\"======================BATAS======================\")\n",
    "\n",
    "# B. MENAMBAHKAN INFORMASI PADA DATA ASLAB\n",
    "surel = [\"berlian@student.uns.ac.id\",\n",
    "         \"halidya@student.uns.ac.id\",\n",
    "         \"nurki@student.uns.ac.id\",\n",
    "         \"manarul@student.uns.ac.id\",\n",
    "         \"alica@student.uns.ac.id\",\n",
    "         \"dendy@student.uns.ac.id\",\n",
    "]\n",
    "def tambahkan_data():\n",
    "    for i in range (0,len(ListAslab)):\n",
    "        print(i,ListAslab[i],surel[i])\n",
    "tambahkan_data()\n",
    "\n",
    "print(\"======================BATAS======================\")\n",
    "# C. MENGHAPUS NILAI KONTAK PADA ASLAB\n",
    "for aslab in ListAslab :\n",
    "    del aslab ['Kontak']\n",
    "    print(aslab)\n",
    "\n",
    "\n",
    "\n",
    "\n",
    "\n"
   ]
  },
  {
   "cell_type": "code",
   "execution_count": null,
   "metadata": {},
   "outputs": [],
   "source": []
  }
 ],
 "metadata": {
  "kernelspec": {
   "display_name": "Python 3",
   "language": "python",
   "name": "python3"
  },
  "language_info": {
   "codemirror_mode": {
    "name": "ipython",
    "version": 3
   },
   "file_extension": ".py",
   "mimetype": "text/x-python",
   "name": "python",
   "nbconvert_exporter": "python",
   "pygments_lexer": "ipython3",
   "version": "3.11.2"
  },
  "orig_nbformat": 4,
  "vscode": {
   "interpreter": {
    "hash": "5addf786bcd861d1ce5006f23111f8cbb206731e5b61b0a5632ba9e0252558a8"
   }
  }
 },
 "nbformat": 4,
 "nbformat_minor": 2
}
