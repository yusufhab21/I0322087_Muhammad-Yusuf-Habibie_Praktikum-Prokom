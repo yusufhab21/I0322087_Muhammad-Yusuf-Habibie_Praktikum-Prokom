{
 "cells": [
  {
   "attachments": {},
   "cell_type": "markdown",
   "metadata": {},
   "source": [
    "1. Tulis program dengan fungsi untuk menentukan angka yang paling kecil dari tiga angka yang diberikan!\n",
    "     ###### Note: Angka ditentukan sendiri oleh praktikan"
   ]
  },
  {
   "cell_type": "code",
   "execution_count": 2,
   "metadata": {},
   "outputs": [
    {
     "name": "stdout",
     "output_type": "stream",
     "text": [
      "7.0 8.0 9.0\n",
      "Bilangan terkecil adalah :  7.0\n"
     ]
    }
   ],
   "source": [
    "#PROGRAM MENCARI BILANGAN (ANGKA) TERKECIL\n",
    "A1 = float(input(\"Masukkan angka ke-1 : \"))\n",
    "A2 = float(input(\"Masukkan angka ke-2 : \"))\n",
    "A3 = float(input(\"Masukkan angka ke-3 : \"))\n",
    "print(A1,A2,A3)\n",
    "\n",
    "#BUAT PERCABANGAN\n",
    "if A1<A2 and A1<A3:\n",
    "    print(\"Bilangan terkecil adalah : \", A1)\n",
    "elif A2<A1 and A2<A3:\n",
    "    print(\"Bilangan terkecil adalah : \", A2)\n",
    "else:\n",
    "    print(\"Bilangan terkecil adalah : \", A3)\n",
    "\n",
    "\n"
   ]
  },
  {
   "cell_type": "code",
   "execution_count": 3,
   "metadata": {},
   "outputs": [
    {
     "name": "stdout",
     "output_type": "stream",
     "text": [
      "bilangan terkecil dari ketiga angka tersebut adalah  4\n"
     ]
    }
   ],
   "source": [
    "def urutatkanbilangan(A1,A2,A3):\n",
    "    list = [A1,A2,A3]\n",
    "    x = min(list)\n",
    "    print(\"bilangan terkecil dari ketiga angka tersebut adalah \", x)\n",
    "\n",
    "urutatkanbilangan(6,5,4)"
   ]
  },
  {
   "attachments": {},
   "cell_type": "markdown",
   "metadata": {},
   "source": [
    "2. Tulis fungsi Python yang mengambil list awal dan menampilkan list baru dengan angka unik (tidak ada angka yang sama) dari list yang pertama."
   ]
  },
  {
   "cell_type": "code",
   "execution_count": null,
   "metadata": {},
   "outputs": [],
   "source": [
    "list_awal = [20,20,20,20,20,21,21,22,25,26,26,27,29,29,29,30]"
   ]
  },
  {
   "cell_type": "code",
   "execution_count": 1,
   "metadata": {},
   "outputs": [
    {
     "name": "stdout",
     "output_type": "stream",
     "text": [
      "[20, 21, 22, 25, 26, 27, 29, 30]\n"
     ]
    }
   ],
   "source": [
    "# MENAMPILKAN DATA YANG BERBEDA\n",
    "list_awal = [20,20,20,20,20,21,21,22,25,26,26,27,29,29,29,30]\n",
    "list_awal = list(dict.fromkeys(list_awal))\n",
    "print(list_awal)"
   ]
  },
  {
   "attachments": {},
   "cell_type": "markdown",
   "metadata": {},
   "source": [
    "3. Cari dan tampilkan bilangan genap yang ada pada list dibawah ini menggunakan fungsi built-in (wajib memakai fungsi lambda) dan tampilkan dalam format menurun (menggunakan perulangan)! "
   ]
  },
  {
   "cell_type": "code",
   "execution_count": null,
   "metadata": {},
   "outputs": [],
   "source": [
    "list_angka = [3,7,4,1,13,6,9,8,15,18,21]"
   ]
  },
  {
   "cell_type": "code",
   "execution_count": 3,
   "metadata": {},
   "outputs": [
    {
     "name": "stdout",
     "output_type": "stream",
     "text": [
      "4\n",
      "6\n",
      "8\n",
      "18\n"
     ]
    }
   ],
   "source": [
    "# MENCARI BILANGAN GENAP DENGAN BUILT-IN DAN PERULANGAN\n",
    "list_angka = [3,7,4,1,13,6,9,8,15,18,21]\n",
    "Bil= list(filter(lambda x: x%2 == 0, list_angka))\n",
    "\n",
    "for i in Bil:\n",
    "    print(i)\n",
    "\n",
    "   \n"
   ]
  }
 ],
 "metadata": {
  "kernelspec": {
   "display_name": "Python 3",
   "language": "python",
   "name": "python3"
  },
  "language_info": {
   "codemirror_mode": {
    "name": "ipython",
    "version": 3
   },
   "file_extension": ".py",
   "mimetype": "text/x-python",
   "name": "python",
   "nbconvert_exporter": "python",
   "pygments_lexer": "ipython3",
   "version": "3.11.2"
  },
  "orig_nbformat": 4,
  "vscode": {
   "interpreter": {
    "hash": "5addf786bcd861d1ce5006f23111f8cbb206731e5b61b0a5632ba9e0252558a8"
   }
  }
 },
 "nbformat": 4,
 "nbformat_minor": 2
}
