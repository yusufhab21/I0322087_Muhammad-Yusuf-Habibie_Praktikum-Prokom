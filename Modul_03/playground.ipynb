{
 "cells": [
  {
   "attachments": {},
   "cell_type": "markdown",
   "metadata": {},
   "source": [
    "### Instruksi:\n",
    "1. Buka buku Learn Python 3 The Hard Way.\n",
    "2. Di bawah ini ada Example dari beberapa Bab yang memuat Operator.\n",
    "3. Silakan kalian bisa latihan dengan melakukan dari yang diinstruksikan pada bagian \"Study Drill\" yang ada di bawah Example\n",
    "4. Bisa dibaca-baca bukunya agar mendapatkan wawasan lebih dari apa yang asisten berikan"
   ]
  },
  {
   "attachments": {},
   "cell_type": "markdown",
   "metadata": {},
   "source": [
    " "
   ]
  },
  {
   "attachments": {},
   "cell_type": "markdown",
   "metadata": {},
   "source": [
    "3: Numbers and Math"
   ]
  },
  {
   "cell_type": "code",
   "execution_count": null,
   "metadata": {},
   "outputs": [],
   "source": [
    "# ex3: Numbers and Math\n",
    "\n",
    "print(\"I will now count my chickens:\")\n",
    "\n",
    "print(\"Hens\", 25 + 30 / 6)\n",
    "print(\"Roosters\", 100 -25 * 3 % 4)\n",
    "\n",
    "print(\"Now I will count the eggs:\")\n",
    "\n",
    "print(3 + 2 + 1 - 5 + 4 % 2 - 1 / 4 + 6)\n",
    "\n",
    "print(\"Is it true that 3 + 2 < 5 - 7?\")\n",
    "\n",
    "print(3 + 2 < 5 - 7)\n",
    "\n",
    "print(\"What is 3 + 2?\", 3 + 2)\n",
    "\n",
    "print(\"What is 5 - 7?\", 5 - 7)\n",
    "\n",
    "print(\"Oh, that's why it's False.\")\n",
    "\n",
    "print(\"How about some more.\")\n",
    "\n",
    "print(\"Is it greater?\", 5 > -2)\n",
    "print(\"Is it greater or equal?\", 5 >= -2)\n",
    "print(\"Is it less or equal?\", 5 <= -2)"
   ]
  },
  {
   "cell_type": "code",
   "execution_count": null,
   "metadata": {},
   "outputs": [],
   "source": [
    "# Kerjakan Study Drill 3) di sini\n"
   ]
  },
  {
   "attachments": {},
   "cell_type": "markdown",
   "metadata": {},
   "source": [
    "4: Variables and Names"
   ]
  },
  {
   "cell_type": "code",
   "execution_count": null,
   "metadata": {},
   "outputs": [],
   "source": [
    "cars = 100\n",
    "space_in_a_car = 4.0\n",
    "drivers = 30\n",
    "passengers = 90\n",
    "cars_not_driven = cars - drivers\n",
    "cars_driven = drivers\n",
    "carpool_capacity = cars_driven * space_in_a_car\n",
    "average_passengers_per_car = passengers / cars_driven\n",
    "\n",
    "print(\"There are\", cars, \"cars available.\")\n",
    "print(\"There are only\", drivers, \"drivers available.\")\n",
    "print(\"There will be\", cars_not_driven, \"empty cars today.\")\n",
    "print(\"We can transport\", carpool_capacity, \"people today.\")\n",
    "print(\"We have\", passengers, \"to carpool today.\")\n",
    "print(\"We need to put about\", average_passengers_per_car, \"in each car.\")"
   ]
  },
  {
   "cell_type": "code",
   "execution_count": null,
   "metadata": {},
   "outputs": [],
   "source": [
    "# Kerjakan Study Drill 4) di sini\n"
   ]
  },
  {
   "attachments": {},
   "cell_type": "markdown",
   "metadata": {},
   "source": [
    "### Instruksi:\n",
    "1. Tulis ulang kode contoh di atasnya dengan sebelumnya artikan dengan command (#)"
   ]
  },
  {
   "attachments": {},
   "cell_type": "markdown",
   "metadata": {},
   "source": [
    "Contoh\n",
    "\n",
    "Tulis program Python yang dapat menghitung luas dari Lingkaran dengan jari-jari yang diinput!"
   ]
  },
  {
   "cell_type": "code",
   "execution_count": null,
   "metadata": {},
   "outputs": [],
   "source": [
    "from math import pi\n",
    "r = float(input (\"Input the radius of the circle : \"))\n",
    "print (\"The area of the circle with radius \" + str(r) + \" is: \" + str(pi * r**2))"
   ]
  },
  {
   "cell_type": "code",
   "execution_count": null,
   "metadata": {},
   "outputs": [],
   "source": [
    "# import pi dari math library\n",
    "from math import pi\n",
    "\n",
    "# membuat variabel untuk user menginputkan nilai jari-jari\n",
    "r = float(input (\"Masukkan jari-jari lingkaran: \"))\n",
    "\n",
    "# Mem-print nilai luas lingkaran sekaligus menghitungnya\n",
    "print (\"Luas lingkaran dengan jari-jari \" + str(r) + \" adalah: \" + str(pi * r**2))"
   ]
  },
  {
   "attachments": {},
   "cell_type": "markdown",
   "metadata": {},
   "source": [
    "5: Tulis program Python untuk tambah, kurang, kali, dan bagi dari dua buah pecahan"
   ]
  },
  {
   "cell_type": "code",
   "execution_count": null,
   "metadata": {},
   "outputs": [],
   "source": [
    "import fractions\n",
    "\n",
    "f1 = fractions.Fraction(2, 3)\n",
    "f2 = fractions.Fraction(3, 7)\n",
    "\n",
    "print('{} + {} = {}'.format(f1, f2, f1 + f2))\n",
    "print('{} - {} = {}'.format(f1, f2, f1 - f2))\n",
    "print('{} * {} = {}'.format(f1, f2, f1 * f2))\n",
    "print('{} / {} = {}'.format(f1, f2, f1 / f2))"
   ]
  },
  {
   "cell_type": "code",
   "execution_count": null,
   "metadata": {},
   "outputs": [],
   "source": [
    "# Kerjakan Study Drill 5 di sini"
   ]
  },
  {
   "attachments": {},
   "cell_type": "markdown",
   "metadata": {},
   "source": [
    "6: Tulis program Python yang akan menghitung luas dari segitiga dengan alas dan tinggi yang kamu inputkan!"
   ]
  },
  {
   "cell_type": "code",
   "execution_count": null,
   "metadata": {},
   "outputs": [],
   "source": [
    "b = int(input(\"Input alas : \"))\n",
    "h = int(input(\"Input tinggi : \"))\n",
    "\n",
    "luas = b*h/2\n",
    "\n",
    "print(\"luas = \", luas)"
   ]
  },
  {
   "cell_type": "code",
   "execution_count": null,
   "metadata": {},
   "outputs": [],
   "source": [
    "# Kerjakan Study Drill 6 di sini"
   ]
  },
  {
   "attachments": {},
   "cell_type": "markdown",
   "metadata": {},
   "source": [
    "7: Tulis program Python yang dapat menghitung luas permukaan dan volume dari Tabung!"
   ]
  },
  {
   "cell_type": "code",
   "execution_count": null,
   "metadata": {},
   "outputs": [],
   "source": [
    "pi=22/7\n",
    "tinggi = float(input('Tinggi dari Tabung: '))\n",
    "jarijari = float(input('Jari-jari dari Tabung: '))\n",
    "volume = pi * jarijari * jarijari * tinggi\n",
    "lp = ((2*pi*jarijari) * tinggi) + ((pi*jarijari**2)*2)\n",
    "print(\"Volume tabung adalah: \", volume)\n",
    "print(\"Luas permukaan tabung adalah: \", lp)"
   ]
  },
  {
   "cell_type": "code",
   "execution_count": null,
   "metadata": {},
   "outputs": [],
   "source": [
    "# Kerjakan Study Drill 7 di sini"
   ]
  },
  {
   "attachments": {},
   "cell_type": "markdown",
   "metadata": {},
   "source": [
    "8: Tulis program Python untuk mendapatkan akar pangkat dua dan pangkat dari nilai desimal yang diberikan!"
   ]
  },
  {
   "cell_type": "code",
   "execution_count": null,
   "metadata": {},
   "outputs": [],
   "source": [
    "from decimal import *\n",
    "x = Decimal('1.44')\n",
    "print(\"Akar pangkat dua dari\",x, \"adalah :\", x.sqrt())\n",
    "print(\"Pangkat dua dari\",x, \" adalah :\", x.exp())\n"
   ]
  },
  {
   "cell_type": "code",
   "execution_count": null,
   "metadata": {},
   "outputs": [],
   "source": [
    "# Kerjakan Study Drill 8 di sini"
   ]
  },
  {
   "attachments": {},
   "cell_type": "markdown",
   "metadata": {},
   "source": [
    "9: Tulis program Python yang dapat menentukan apakah benar bilangan tersebut LEBIH BESAR dari 4^4 DAN jika di-MODULUS-kan 34 hasilnya adalah 4!"
   ]
  },
  {
   "cell_type": "code",
   "execution_count": null,
   "metadata": {},
   "outputs": [],
   "source": [
    "def test(n):\n",
    "    return n % 34 == 4 and n > 4 ** 4\n",
    "\n",
    "n = 922\n",
    "print(\"Original Integer:\")\n",
    "print(n)\n",
    "print(\"Apakah benar integer tersebut lebih besar dari 4^4 dan hasilnya 4 jika di-mod-kan dengan 34:\")\n",
    "\n",
    "print(test(n))\n",
    "\n",
    "n = 914\n",
    "print(\"\\nOriginal Integer:\")\n",
    "print(n)\n",
    "print(\"Apakah benar integer tersebut lebih besar dari 4^4 dan hasilnya 4 jika di-mod-kan dengan 34:\")\n",
    "print(test(n))\n",
    "\n",
    "n = 854\n",
    "print(\"\\nOriginal Integer:\")\n",
    "print(n)\n",
    "print(\"Apakah benar integer tersebut lebih besar dari 4^4 dan hasilnya 4 jika di-mod-kan dengan 34:\")\n",
    "print(test(n))"
   ]
  },
  {
   "cell_type": "code",
   "execution_count": null,
   "metadata": {},
   "outputs": [],
   "source": [
    "# Kerjakan Study Drill 9 di sini\n",
    "## Kalian bisa coba membuktikan dengan menghitung hasil dari 4^4 dan mod 34 dari bilangan integernya"
   ]
  },
  {
   "attachments": {},
   "cell_type": "markdown",
   "metadata": {},
   "source": [
    "10: Tulis program Python yang dapat menyimpan nama depan dan nama belakang user dan mem-print-nya dengan dibalik antara keduanya!\n"
   ]
  },
  {
   "cell_type": "code",
   "execution_count": null,
   "metadata": {},
   "outputs": [],
   "source": [
    "fname = input(\"Input your First Name : \")\n",
    "lname = input(\"Input your Last Name : \")\n",
    "print (\"Hello  \" + lname + \" \" + fname)"
   ]
  },
  {
   "cell_type": "code",
   "execution_count": null,
   "metadata": {},
   "outputs": [],
   "source": [
    "# Kerjakan Study Drill 10 di sini\n"
   ]
  }
 ],
 "metadata": {
  "kernelspec": {
   "display_name": "Python 3",
   "language": "python",
   "name": "python3"
  },
  "language_info": {
   "codemirror_mode": {
    "name": "ipython",
    "version": 3
   },
   "file_extension": ".py",
   "mimetype": "text/x-python",
   "name": "python",
   "nbconvert_exporter": "python",
   "pygments_lexer": "ipython3",
   "version": "3.9.1"
  },
  "orig_nbformat": 4
 },
 "nbformat": 4,
 "nbformat_minor": 2
}
