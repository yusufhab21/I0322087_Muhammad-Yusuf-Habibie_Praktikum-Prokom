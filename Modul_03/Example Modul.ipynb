{
 "cells": [
  {
   "attachments": {},
   "cell_type": "markdown",
   "metadata": {},
   "source": [
    "# OPERATOR"
   ]
  },
  {
   "attachments": {},
   "cell_type": "markdown",
   "metadata": {},
   "source": [
    "Berikut ini adalah source code Example yang ada di Modul. Praktikan bisa memahami langsung bagaimana cara setiap operator berjalan dan arti untuk setiap operasinya.\n",
    "\n",
    "Note: Jika terjadi error \"not defined\" pastikan cell yang men-state variabel sudah di running terlebih dahulu."
   ]
  },
  {
   "attachments": {},
   "cell_type": "markdown",
   "metadata": {},
   "source": [
    "### Operator Aritmatika\n",
    "\n"
   ]
  },
  {
   "attachments": {},
   "cell_type": "markdown",
   "metadata": {},
   "source": [
    "Operator aritmatika digunakan pada tipe data numerik, untuk melakukan \n",
    "operasi matematika sederhana"
   ]
  },
  {
   "attachments": {},
   "cell_type": "markdown",
   "metadata": {},
   "source": [
    "#### Contoh Operasi"
   ]
  },
  {
   "cell_type": "code",
   "execution_count": null,
   "metadata": {},
   "outputs": [],
   "source": [
    "a = 10\n",
    "b = 3\n",
    "\n",
    "# Operasi Penjumlahan (+)\n",
    "hasil = a + b\n",
    "print(a,'+',b,'=',hasil)"
   ]
  },
  {
   "cell_type": "code",
   "execution_count": null,
   "metadata": {},
   "outputs": [],
   "source": [
    "# Operasi Pengurangan (-)\n",
    "hasil = a - b\n",
    "print(a,'-',b,'=',hasil)"
   ]
  },
  {
   "cell_type": "code",
   "execution_count": null,
   "metadata": {},
   "outputs": [],
   "source": [
    "# Operasi Perkalian (*)\n",
    "hasil = a * b\n",
    "print(a,'*',b,'=',hasil)"
   ]
  },
  {
   "cell_type": "code",
   "execution_count": null,
   "metadata": {},
   "outputs": [],
   "source": [
    "# Operasi Pembagian (/)\n",
    "hasil = a / b\n",
    "print(a,'/',b,'=',hasil)"
   ]
  },
  {
   "cell_type": "code",
   "execution_count": null,
   "metadata": {},
   "outputs": [],
   "source": [
    "# Operasi Eksponen atau Pangkat (**)\n",
    "hasil = a ** b\n",
    "print(a,'**',b,'=',hasil)"
   ]
  },
  {
   "cell_type": "code",
   "execution_count": null,
   "metadata": {},
   "outputs": [],
   "source": [
    "# Operasi Modulus (%)\n",
    "hasil = a % b\n",
    "print(a,'%',b,'=',hasil)"
   ]
  },
  {
   "cell_type": "code",
   "execution_count": null,
   "metadata": {},
   "outputs": [],
   "source": [
    "# Operasi Floor Division (//)\n",
    "hasil = a // b\n",
    "print(a,'//',b,'=',hasil)"
   ]
  },
  {
   "attachments": {},
   "cell_type": "markdown",
   "metadata": {},
   "source": [
    "#### Contoh Prioritas dari Operator"
   ]
  },
  {
   "attachments": {},
   "cell_type": "markdown",
   "metadata": {},
   "source": [
    "Berikut urutan prioritas dari operasi aritmatika.\n",
    "1.\t Kurung ()\n",
    "2.\t Exponen atau pangkat **\n",
    "3.\t Perkalian, pembagian, modulus, floor division * / ** % //\n",
    "4.\t Penjumlahan dan pengurangan + -"
   ]
  },
  {
   "cell_type": "code",
   "execution_count": null,
   "metadata": {},
   "outputs": [],
   "source": [
    "x = 3\n",
    "y = 2\n",
    "z = 4\n",
    "\n",
    "hasil = x ** y * (z + x) / y - y % z // x\n",
    "print(x,'**',y,'*',z,'+',x,'/',y,'-',y,'%',z,'//',x,'=',hasil)"
   ]
  },
  {
   "cell_type": "code",
   "execution_count": null,
   "metadata": {},
   "outputs": [],
   "source": [
    "hasil = x + y * z\n",
    "print(x,'+',y,'*',z,'=',hasil)\n",
    "\n",
    "# Contoh kurung akan menjadi prioritas\n",
    "hasil = (x + y) * z \n",
    "print('(',x,'+',y,') *',z,'=',hasil)"
   ]
  },
  {
   "attachments": {},
   "cell_type": "markdown",
   "metadata": {},
   "source": [
    "### Operator Perbandingan atau Relasi"
   ]
  },
  {
   "attachments": {},
   "cell_type": "markdown",
   "metadata": {},
   "source": [
    "Operator perbandingan atau relasi dapat digunakan untuk membandingkan dua buah nilai"
   ]
  },
  {
   "attachments": {},
   "cell_type": "markdown",
   "metadata": {},
   "source": [
    "#### Contoh"
   ]
  },
  {
   "cell_type": "code",
   "execution_count": null,
   "metadata": {},
   "outputs": [],
   "source": [
    "a = 4\n",
    "b = 2\n",
    "\n",
    "# lebih besar dari (>)\n",
    "hasil = a > 3\n",
    "print(a,'>',3,'=',hasil)\n",
    "\n",
    "hasil = b > 3\n",
    "print(b,'>',3,'=',hasil)\n",
    "\n",
    "hasil = b > 2\n",
    "print(b,'>',2,'=',hasil)"
   ]
  },
  {
   "cell_type": "code",
   "execution_count": null,
   "metadata": {},
   "outputs": [],
   "source": [
    "# Kurang dari (<)\n",
    "hasil = a < 3\n",
    "print(a,'<',3,'=',hasil)\n",
    "\n",
    "hasil = b < 3\n",
    "print(b,'<',3,'=',hasil)\n",
    "\n",
    "hasil = b < 2\n",
    "print(b,'<',2,'=',hasil)"
   ]
  },
  {
   "cell_type": "code",
   "execution_count": null,
   "metadata": {},
   "outputs": [],
   "source": [
    "# Lebih dari sama dengan (>=)\n",
    "hasil = a >= 3\n",
    "print(a,'>=',3,'=',hasil)\n",
    "\n",
    "hasil = b >= 3\n",
    "print(b,'>=',3,'=',hasil)\n",
    "\n",
    "hasil = b >= 2\n",
    "print(b,'>=',2,'=',hasil)"
   ]
  },
  {
   "cell_type": "code",
   "execution_count": null,
   "metadata": {},
   "outputs": [],
   "source": [
    "# Kurang dari sama dengan (<=)\n",
    "hasil = a <= 3\n",
    "print(a,'<=',3,'=',hasil)\n",
    "\n",
    "hasil = b <= 3\n",
    "print(b,'<=',3,'=',hasil)\n",
    "\n",
    "hasil = b <= 2\n",
    "print(b,'<=',2,'=',hasil)"
   ]
  },
  {
   "cell_type": "code",
   "execution_count": null,
   "metadata": {},
   "outputs": [],
   "source": [
    "# Sama dengan (==)\n",
    "hasil = a == 4\n",
    "print(a,'==',4,'=',hasil)\n",
    "\n",
    "hasil = b == 4\n",
    "print(b,'==',4,'=',hasil)"
   ]
  },
  {
   "attachments": {},
   "cell_type": "markdown",
   "metadata": {},
   "source": [
    "Untuk operator perbandingan, perlu diperhatikan tipe data antara dua statement yang dibandingkan.\n",
    "\n",
    "Sebagai contoh di bawah ini:"
   ]
  },
  {
   "cell_type": "code",
   "execution_count": null,
   "metadata": {},
   "outputs": [],
   "source": [
    "hasil = a == '4'\n",
    "print(a,'==',4,'=',hasil)\n",
    "\n",
    "hasil = b == '4'\n",
    "print(b,'==',4,'=',hasil)"
   ]
  },
  {
   "cell_type": "code",
   "execution_count": null,
   "metadata": {},
   "outputs": [],
   "source": [
    "# Tidak sama dengan (!=)\n",
    "hasil = a != 4\n",
    "print(a,'!=',4,'=',hasil)\n",
    "\n",
    "hasil = b != 4\n",
    "print(b,'!=',4,'=',hasil)"
   ]
  },
  {
   "cell_type": "code",
   "execution_count": null,
   "metadata": {},
   "outputs": [],
   "source": [
    "hasil = a != '4'\n",
    "print(a,'!=',4,'=',hasil)\n",
    "\n",
    "hasil = b != '4'\n",
    "print(b,'!=',4,'=',hasil)"
   ]
  },
  {
   "attachments": {},
   "cell_type": "markdown",
   "metadata": {},
   "source": [
    "\n",
    "### Operasi Penugasan (Assignment)"
   ]
  },
  {
   "attachments": {},
   "cell_type": "markdown",
   "metadata": {},
   "source": [
    "Operator Penugasan adalah operator yang digunakan untuk mengisi nilai pada variable, menambah, mengurang, membagi atau mengali nilai suatu variable."
   ]
  },
  {
   "attachments": {},
   "cell_type": "markdown",
   "metadata": {},
   "source": [
    "##### Contoh"
   ]
  },
  {
   "cell_type": "code",
   "execution_count": null,
   "metadata": {},
   "outputs": [],
   "source": [
    "a = 5 # adalah assignment\n",
    "print(\"nilai a =\",a)\n",
    "\n",
    "a += 1 # artinya adalah a = a + 1\n",
    "print(\"nilai a += 1, nilai a menjadi\",a)\n",
    "\n",
    "a -= 2 # artinya adalah a = a - 2\n",
    "print(\"nilai a -= 2, nilai a menjadi\",a)\n",
    "\n",
    "a *= 5 # artinya adalah a = a * 5\n",
    "print(\"nilai a *= 5, nilai a menjadi\",a)\n",
    "\n",
    "a /= 2 # artinya adalah a = a / 2\n",
    "print(\"nilai a /= 2, nilai a menjadi\",a)\n",
    "\n",
    "# pangkat atau eksponen\n",
    "a **= 3\n",
    "print(\"nilai a **= 3, nilai a menjadi\",a)\n"
   ]
  },
  {
   "attachments": {},
   "cell_type": "markdown",
   "metadata": {},
   "source": [
    "Penulisan harus Benar karena jika terbalik akan menghasilkan output yang berbeda"
   ]
  },
  {
   "cell_type": "code",
   "execution_count": null,
   "metadata": {},
   "outputs": [],
   "source": [
    "# modulus\n",
    "b = 10\n",
    "print(\"\\nnilai b =\",b)\n",
    "\n",
    "b %= 3\n",
    "print(\"nilai b %= 3, nilai b menjadi\",b)\n",
    "\n",
    "# floor division \n",
    "b = 10\n",
    "print(\"\\nnilai b =\",b)\n",
    "\n",
    "b //= 3\n",
    "print(\"nilai b //= 3, nilai b menjadi\",b)"
   ]
  },
  {
   "attachments": {},
   "cell_type": "markdown",
   "metadata": {},
   "source": [
    "### Operasi Logika atau Boolean"
   ]
  },
  {
   "attachments": {},
   "cell_type": "markdown",
   "metadata": {},
   "source": [
    "Operator logical digunakan untuk menggabungkan beberapa nilai kebenaran atas \n",
    "suatu statemen logika"
   ]
  },
  {
   "attachments": {},
   "cell_type": "markdown",
   "metadata": {},
   "source": [
    "##### Contoh"
   ]
  },
  {
   "cell_type": "code",
   "execution_count": null,
   "metadata": {},
   "outputs": [],
   "source": [
    "# NOT\n",
    "a = False\n",
    "c = not a\n",
    "print('data a =',a)\n",
    "print('data c =',c)"
   ]
  },
  {
   "cell_type": "code",
   "execution_count": null,
   "metadata": {},
   "outputs": [],
   "source": [
    "x = 5\n",
    "print(not(x<5))\n"
   ]
  },
  {
   "cell_type": "code",
   "execution_count": null,
   "metadata": {},
   "outputs": [],
   "source": [
    "# OR (jika salah satu true, maka hasilnya adalah true)\n",
    "a = False\n",
    "b = False\n",
    "c = a or b\n",
    "print(a,'OR',b,'=',c)\n",
    "a = False\n",
    "b = True\n",
    "c = a or b\n",
    "print(a,'OR',b,' =',c)\n",
    "a = True\n",
    "b = False\n",
    "c = a or b\n",
    "print(a,' OR',b,'=',c)\n",
    "a = True\n",
    "b = True\n",
    "c = a or b\n",
    "print(a,' OR',b,' =',c)"
   ]
  },
  {
   "cell_type": "code",
   "execution_count": 24,
   "metadata": {},
   "outputs": [
    {
     "name": "stdout",
     "output_type": "stream",
     "text": [
      "False OR True = True\n"
     ]
    }
   ],
   "source": [
    "a = 3<1 #False\n",
    "b = 5>2 #True\n",
    "c = a or b\n",
    "print(a, 'OR',b,'=',c)"
   ]
  },
  {
   "cell_type": "code",
   "execution_count": 58,
   "metadata": {},
   "outputs": [
    {
     "name": "stdout",
     "output_type": "stream",
     "text": [
      "False AND False = False\n",
      "False AND True  = False\n",
      "True  AND False = False\n",
      "True  AND True  = True\n"
     ]
    }
   ],
   "source": [
    "# AND (jika dua buah nilai true, maka hasil true)\n",
    "a = False\n",
    "b = False\n",
    "c = a and b\n",
    "print(a,'AND',b,'=',c)\n",
    "a = False\n",
    "b = True\n",
    "c = a and b\n",
    "print(a,'AND',b,' =',c)\n",
    "a = True\n",
    "b = False\n",
    "c = a and b\n",
    "print(a,' AND',b,'=',c)\n",
    "a = True\n",
    "b = True\n",
    "c = a and b\n",
    "print(a,' AND',b,' =',c)"
   ]
  },
  {
   "cell_type": "code",
   "execution_count": 23,
   "metadata": {},
   "outputs": [
    {
     "name": "stdout",
     "output_type": "stream",
     "text": [
      "False AND True = False\n"
     ]
    }
   ],
   "source": [
    "a = 3<1 #False\n",
    "b = 5>2 #True\n",
    "c = a and b\n",
    "print(a, 'AND',b,'=',c)"
   ]
  },
  {
   "attachments": {},
   "cell_type": "markdown",
   "metadata": {},
   "source": [
    "### Operator Bitwise"
   ]
  },
  {
   "attachments": {},
   "cell_type": "markdown",
   "metadata": {},
   "source": [
    "Operator bitwise adalah operator yang berhubungan dengan angka-angka biner."
   ]
  },
  {
   "attachments": {},
   "cell_type": "markdown",
   "metadata": {},
   "source": [
    "##### Contoh"
   ]
  },
  {
   "cell_type": "code",
   "execution_count": 10,
   "metadata": {},
   "outputs": [
    {
     "name": "stdout",
     "output_type": "stream",
     "text": [
      "nilai : 9  , binary : 00001001\n",
      "nilai : 5  , binary : 00000101\n",
      "----------------------------- (|)\n",
      "nilai : 13  , binary : 00001101\n"
     ]
    }
   ],
   "source": [
    "a = 9\n",
    "b = 5\n",
    "\n",
    "# bitwise OR (|)\n",
    "c = a | b\n",
    "print('nilai :',a,' , binary :',format(a,'08b'))\n",
    "print('nilai :',b,' , binary :',format(b,'08b'))\n",
    "print('----------------------------- (|)')\n",
    "print('nilai :',c,' , binary :',format(c,'08b'))"
   ]
  },
  {
   "cell_type": "code",
   "execution_count": 11,
   "metadata": {},
   "outputs": [
    {
     "name": "stdout",
     "output_type": "stream",
     "text": [
      "nilai : 9  , binary : 00001001\n",
      "nilai : 5  , binary : 00000101\n",
      "----------------------------- (&)\n",
      "nilai : 1  , binary : 00000001\n"
     ]
    }
   ],
   "source": [
    "# bitwise AND (&)\n",
    "c = a & b\n",
    "print('nilai :',a,' , binary :',format(a,'08b'))\n",
    "print('nilai :',b,' , binary :',format(b,'08b'))\n",
    "print('----------------------------- (&)')\n",
    "print('nilai :',c,' , binary :',format(c,'08b'))"
   ]
  },
  {
   "cell_type": "code",
   "execution_count": 12,
   "metadata": {},
   "outputs": [
    {
     "name": "stdout",
     "output_type": "stream",
     "text": [
      "nilai : 9  , binary : 00001001\n",
      "nilai : 5  , binary : 00000101\n",
      "----------------------------- (^)\n",
      "nilai : 12  , binary : 00001100\n"
     ]
    }
   ],
   "source": [
    "# bitwise XOR (^)\n",
    "c = a ^ b\n",
    "print('nilai :',a,' , binary :',format(a,'08b'))\n",
    "print('nilai :',b,' , binary :',format(b,'08b'))\n",
    "print('----------------------------- (^)')\n",
    "print('nilai :',c,' , binary :',format(c,'08b'))"
   ]
  },
  {
   "cell_type": "code",
   "execution_count": 13,
   "metadata": {},
   "outputs": [
    {
     "name": "stdout",
     "output_type": "stream",
     "text": [
      "nilai : 10  , binary : 00001010\n",
      "----------------------------- (~)\n",
      "nilai : -11  , binary : -0001011\n"
     ]
    }
   ],
   "source": [
    "# bitwise NOT (~)\n",
    "d = 10\n",
    "c = ~d\n",
    "print('nilai :',d,' , binary :',format(d,'08b'))\n",
    "print('----------------------------- (~)')\n",
    "print('nilai :',c,' , binary :',format(c,'08b'))"
   ]
  },
  {
   "cell_type": "code",
   "execution_count": 14,
   "metadata": {},
   "outputs": [
    {
     "name": "stdout",
     "output_type": "stream",
     "text": [
      "nilai : 9  , binary : 00001001\n",
      "----------------------------- (>>)\n",
      "nilai : 2  , binary : 00000010\n"
     ]
    }
   ],
   "source": [
    "# shift right (>>)\n",
    "c = a >> 2\n",
    "print('nilai :',a,' , binary :',format(a,'08b'))\n",
    "print('----------------------------- (>>)')\n",
    "print('nilai :',c,' , binary :',format(c,'08b'))"
   ]
  },
  {
   "cell_type": "code",
   "execution_count": 15,
   "metadata": {},
   "outputs": [
    {
     "name": "stdout",
     "output_type": "stream",
     "text": [
      "nilai : 9  , binary : 00001001\n",
      "----------------------------- (<<)\n",
      "nilai : 36  , binary : 00100100\n"
     ]
    }
   ],
   "source": [
    "# shift left (<<)\n",
    "c = a << 2\n",
    "print('nilai :',a,' , binary :',format(a,'08b'))\n",
    "print('----------------------------- (<<)')\n",
    "print('nilai :',c,' , binary :',format(c,'08b'))"
   ]
  },
  {
   "attachments": {},
   "cell_type": "markdown",
   "metadata": {},
   "source": [
    "### Operator Keanggotaan"
   ]
  },
  {
   "attachments": {},
   "cell_type": "markdown",
   "metadata": {},
   "source": [
    "Operator untuk memeriksa apakah anggota dari sequence atau tidak"
   ]
  },
  {
   "attachments": {},
   "cell_type": "markdown",
   "metadata": {},
   "source": [
    "##### Contoh\n"
   ]
  },
  {
   "cell_type": "code",
   "execution_count": null,
   "metadata": {},
   "outputs": [],
   "source": [
    "perusahaan = 'McKinsey'\n",
    "empat_besar = ['Arsenal', 'City', 'MU', 'Tottenham']\n",
    "mahasiswa = {\n",
    "  'nama': 'POSI',\n",
    "  'tahun': '2020'\n",
    "}\n",
    "\n",
    "print(\n",
    "  \"Huruf 'c' ada di variabel perusahaan?\",\n",
    "  'c' in perusahaan\n",
    ")"
   ]
  },
  {
   "cell_type": "code",
   "execution_count": null,
   "metadata": {},
   "outputs": [],
   "source": [
    "print(\n",
    "  \"Huruf 'z' tidak ada di variabel perusahaan?\",\n",
    "  'z' not in perusahaan\n",
    ")"
   ]
  },
  {
   "cell_type": "code",
   "execution_count": null,
   "metadata": {},
   "outputs": [],
   "source": [
    "print(\n",
    "  \"Liverpool ada di empat besar klasemen?\",\n",
    "  'Liverpool' in empat_besar, \"lah. Yakali ada\"\n",
    ")"
   ]
  },
  {
   "cell_type": "code",
   "execution_count": null,
   "metadata": {},
   "outputs": [],
   "source": [
    "print(\n",
    "  \"Atribut 'nama' ada di dictionary mahasiswa?\",\n",
    "  'nama' in mahasiswa\n",
    ")"
   ]
  },
  {
   "attachments": {},
   "cell_type": "markdown",
   "metadata": {},
   "source": [
    "### Operator Identitas"
   ]
  },
  {
   "attachments": {},
   "cell_type": "markdown",
   "metadata": {},
   "source": [
    "Operator identitas dapat mengetahui apakah dua buah variabel memiliki nilai yang sama dan posisi yang sama di dalam memori."
   ]
  },
  {
   "attachments": {},
   "cell_type": "markdown",
   "metadata": {},
   "source": [
    "##### Contoh"
   ]
  },
  {
   "cell_type": "code",
   "execution_count": null,
   "metadata": {},
   "outputs": [],
   "source": [
    "# 'is'\n",
    "x = 5 \n",
    "y = 5\n",
    "print('nilai x =',x,', id =',hex(id(x)))\n",
    "print('nilai y =',y,', id =',hex(id(y)))\n",
    "hasil = x is y\n",
    "print('x is y =',hasil)"
   ]
  },
  {
   "cell_type": "code",
   "execution_count": null,
   "metadata": {},
   "outputs": [],
   "source": [
    "x = 5 \n",
    "y = 6\n",
    "print('nilai x =',x,', id =',hex(id(x)))\n",
    "print('nilai y =',y,', id =',hex(id(y)))\n",
    "hasil = x is y\n",
    "print('x is y =',hasil)"
   ]
  },
  {
   "cell_type": "code",
   "execution_count": 17,
   "metadata": {},
   "outputs": [
    {
     "name": "stdout",
     "output_type": "stream",
     "text": [
      "['apple', 'banana'] 0x1dc35c7eec0\n",
      "['apple', 'banana'] 0x1dc35c6f080\n",
      "True\n",
      "False\n",
      "True\n"
     ]
    }
   ],
   "source": [
    "x = [\"apple\", \"banana\"]\n",
    "y = [\"apple\", \"banana\"]\n",
    "z = x\n",
    "\n",
    "print(x, hex(id(x)))\n",
    "print(y, hex(id(y)))\n",
    "\n",
    "print(x is z)\n",
    "\n",
    "# returns True because z is the same object as x\n",
    "\n",
    "print(x is y)\n",
    "\n",
    "# returns False because x is not the same object as y, even if they have the same content\n",
    "\n",
    "print(x == y)\n",
    "\n",
    "# to demonstrate the difference betweeen \"is\" and \"==\": this comparison returns True because x is equal to y\n"
   ]
  },
  {
   "cell_type": "code",
   "execution_count": null,
   "metadata": {},
   "outputs": [],
   "source": [
    "# is not\n",
    "x = 5 \n",
    "y = 5\n",
    "print('nilai x =',x,', id =',hex(id(x)))\n",
    "print('nilai y =',y,', id =',hex(id(y)))\n",
    "hasil = x is not y\n",
    "print('x is not y =',hasil)"
   ]
  },
  {
   "cell_type": "code",
   "execution_count": null,
   "metadata": {},
   "outputs": [],
   "source": [
    "x = 5\n",
    "y = 6\n",
    "print('nilai x =',x,',id = ',hex(id(x)))\n",
    "print('nilai y =',y,',id = ',hex(id(y)))\n",
    "hasil = x is not y\n",
    "print('x is not y =',hasil)"
   ]
  },
  {
   "attachments": {},
   "cell_type": "markdown",
   "metadata": {},
   "source": [
    "### Operator String"
   ]
  },
  {
   "attachments": {},
   "cell_type": "markdown",
   "metadata": {},
   "source": [
    "##### Concat String"
   ]
  },
  {
   "cell_type": "code",
   "execution_count": null,
   "metadata": {},
   "outputs": [],
   "source": [
    "# string\n",
    "str1 = \"Hello\"\n",
    "str2 = \"World\"\n",
    "\n",
    "# concat\n",
    "result = str1 + \" \" + str2\n",
    "print(result)"
   ]
  },
  {
   "attachments": {},
   "cell_type": "markdown",
   "metadata": {},
   "source": [
    "##### Menghitung Panjang String"
   ]
  },
  {
   "cell_type": "code",
   "execution_count": null,
   "metadata": {},
   "outputs": [],
   "source": [
    "nama_lengkap = \"Perancangan dan Optimasi Sistem Industri\"\n",
    "panjang = len(nama_lengkap)\n",
    "print(\"panjang string \" + nama_lengkap + \" adalah \",(panjang))"
   ]
  },
  {
   "attachments": {},
   "cell_type": "markdown",
   "metadata": {},
   "source": [
    "##### Mereplikasi Strings"
   ]
  },
  {
   "cell_type": "code",
   "execution_count": null,
   "metadata": {},
   "outputs": [],
   "source": [
    "# string\n",
    "str = \"HA\"\n",
    "\n",
    "# replicate\n",
    "result = str * 3\n",
    "print(result, \"lucu bangetttt\")"
   ]
  },
  {
   "attachments": {},
   "cell_type": "markdown",
   "metadata": {},
   "source": [
    "##### Mengakses Karakter dalam String"
   ]
  },
  {
   "cell_type": "code",
   "execution_count": null,
   "metadata": {},
   "outputs": [],
   "source": [
    "# string\n",
    "str = \"POSI 2020\"\n",
    "\n",
    "# character\n",
    "ch = str[4]\n",
    "print(ch) \n",
    "# outputnya kosong karena merupakan spasi"
   ]
  },
  {
   "attachments": {},
   "cell_type": "markdown",
   "metadata": {},
   "source": [
    "##### Substring"
   ]
  },
  {
   "cell_type": "code",
   "execution_count": null,
   "metadata": {},
   "outputs": [],
   "source": [
    "# string\n",
    "str = \"Hello World\"\n",
    "\n",
    "# sub string\n",
    "substr = str[3:5]\n",
    "print(substr)"
   ]
  },
  {
   "attachments": {},
   "cell_type": "markdown",
   "metadata": {},
   "source": [
    "##### Skipping Characters"
   ]
  },
  {
   "cell_type": "code",
   "execution_count": null,
   "metadata": {},
   "outputs": [],
   "source": [
    "# string\n",
    "str = \"Hello World\"\n",
    "\n",
    "# skip\n",
    "new_str = str[0:10:2]\n",
    "print(new_str)"
   ]
  },
  {
   "attachments": {},
   "cell_type": "markdown",
   "metadata": {},
   "source": [
    "##### Reverse String"
   ]
  },
  {
   "cell_type": "code",
   "execution_count": null,
   "metadata": {},
   "outputs": [],
   "source": [
    "# string\n",
    "str = \"Hello World\"\n",
    "\n",
    "# reverse\n",
    "hasil = str[::-1]\n",
    "print(hasil)"
   ]
  },
  {
   "attachments": {},
   "cell_type": "markdown",
   "metadata": {},
   "source": [
    "##### Escape Sequence"
   ]
  },
  {
   "attachments": {},
   "cell_type": "markdown",
   "metadata": {},
   "source": [
    "Penjelasan mengenai Escape Sequence Notation dan penggunaannya seperti di bawah ini"
   ]
  },
  {
   "cell_type": "markdown",
   "metadata": {},
   "source": [
    "**\\a**"
   ]
  },
  {
   "cell_type": "code",
   "execution_count": null,
   "metadata": {},
   "outputs": [],
   "source": [
    "print(\"Text ini akan berbunyi beep \\a\")"
   ]
  },
  {
   "cell_type": "markdown",
   "metadata": {},
   "source": [
    "pada beberapa device, akan menghasilkan suara beep."
   ]
  },
  {
   "cell_type": "markdown",
   "metadata": {},
   "source": [
    "**\\f**"
   ]
  },
  {
   "cell_type": "code",
   "execution_count": null,
   "metadata": {},
   "outputs": [],
   "source": [
    "print(\"Ini teks di halaman 1. \\f Ini teks di halaman 2.\")"
   ]
  },
  {
   "cell_type": "markdown",
   "metadata": {},
   "source": [
    "Karakter formfeed akan mengganti halaman pada output."
   ]
  },
  {
   "cell_type": "markdown",
   "metadata": {},
   "source": [
    "**\\b**"
   ]
  },
  {
   "cell_type": "code",
   "execution_count": null,
   "metadata": {},
   "outputs": [],
   "source": [
    "print(\"huruf T\\b pada kalimat ini akan hilang\")"
   ]
  },
  {
   "cell_type": "markdown",
   "metadata": {},
   "source": [
    "dia akan menghapus karakter sebelumnya."
   ]
  },
  {
   "cell_type": "markdown",
   "metadata": {},
   "source": [
    "**\\n**"
   ]
  },
  {
   "cell_type": "code",
   "execution_count": null,
   "metadata": {},
   "outputs": [],
   "source": [
    "print(\"Baris pertama\\nBaris kedua\")"
   ]
  },
  {
   "cell_type": "markdown",
   "metadata": {},
   "source": [
    "memberikan baris baru."
   ]
  },
  {
   "cell_type": "markdown",
   "metadata": {},
   "source": [
    "**\\r**"
   ]
  },
  {
   "cell_type": "code",
   "execution_count": null,
   "metadata": {},
   "outputs": [],
   "source": [
    "print(\"Ini adalah kalimat pertama.\\rIni adalah kalimat kedua.\")"
   ]
  },
  {
   "cell_type": "code",
   "execution_count": null,
   "metadata": {},
   "outputs": [],
   "source": [
    "txt = \"Hello\\rWorld!\"\n",
    "print(txt) "
   ]
  },
  {
   "cell_type": "markdown",
   "metadata": {},
   "source": [
    "**\\t**"
   ]
  },
  {
   "cell_type": "code",
   "execution_count": null,
   "metadata": {},
   "outputs": [],
   "source": [
    "print(\"Kolom 1\\tKolom 2\\tKolom 3\")\n",
    "print(\"1\\t2\\t3\")\n",
    "print(\"10\\t20\\t30\")"
   ]
  },
  {
   "cell_type": "markdown",
   "metadata": {},
   "source": [
    "membuat tab."
   ]
  }
 ],
 "metadata": {
  "kernelspec": {
   "display_name": "Python 3",
   "language": "python",
   "name": "python3"
  },
  "language_info": {
   "codemirror_mode": {
    "name": "ipython",
    "version": 3
   },
   "file_extension": ".py",
   "mimetype": "text/x-python",
   "name": "python",
   "nbconvert_exporter": "python",
   "pygments_lexer": "ipython3",
   "version": "3.9.1"
  },
  "orig_nbformat": 4
 },
 "nbformat": 4,
 "nbformat_minor": 2
}
