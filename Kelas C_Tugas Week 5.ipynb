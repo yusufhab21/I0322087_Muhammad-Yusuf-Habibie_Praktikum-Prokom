{
 "cells": [
  {
   "attachments": {},
   "cell_type": "markdown",
   "metadata": {},
   "source": [
    "1. Buatlah program untuk menghitung pangkat 2 dari angka 1 hingga 50!"
   ]
  },
  {
   "cell_type": "code",
   "execution_count": 1,
   "metadata": {},
   "outputs": [
    {
     "name": "stdout",
     "output_type": "stream",
     "text": [
      "Pangkat dua dari 1 adalah 1\n",
      "Pangkat dua dari 2 adalah 4\n",
      "Pangkat dua dari 3 adalah 9\n",
      "Pangkat dua dari 4 adalah 16\n",
      "Pangkat dua dari 5 adalah 25\n",
      "Pangkat dua dari 6 adalah 36\n",
      "Pangkat dua dari 7 adalah 49\n",
      "Pangkat dua dari 8 adalah 64\n",
      "Pangkat dua dari 9 adalah 81\n",
      "Pangkat dua dari 10 adalah 100\n",
      "Pangkat dua dari 11 adalah 121\n",
      "Pangkat dua dari 12 adalah 144\n",
      "Pangkat dua dari 13 adalah 169\n",
      "Pangkat dua dari 14 adalah 196\n",
      "Pangkat dua dari 15 adalah 225\n",
      "Pangkat dua dari 16 adalah 256\n",
      "Pangkat dua dari 17 adalah 289\n",
      "Pangkat dua dari 18 adalah 324\n",
      "Pangkat dua dari 19 adalah 361\n",
      "Pangkat dua dari 20 adalah 400\n",
      "Pangkat dua dari 21 adalah 441\n",
      "Pangkat dua dari 22 adalah 484\n",
      "Pangkat dua dari 23 adalah 529\n",
      "Pangkat dua dari 24 adalah 576\n",
      "Pangkat dua dari 25 adalah 625\n",
      "Pangkat dua dari 26 adalah 676\n",
      "Pangkat dua dari 27 adalah 729\n",
      "Pangkat dua dari 28 adalah 784\n",
      "Pangkat dua dari 29 adalah 841\n",
      "Pangkat dua dari 30 adalah 900\n",
      "Pangkat dua dari 31 adalah 961\n",
      "Pangkat dua dari 32 adalah 1024\n",
      "Pangkat dua dari 33 adalah 1089\n",
      "Pangkat dua dari 34 adalah 1156\n",
      "Pangkat dua dari 35 adalah 1225\n",
      "Pangkat dua dari 36 adalah 1296\n",
      "Pangkat dua dari 37 adalah 1369\n",
      "Pangkat dua dari 38 adalah 1444\n",
      "Pangkat dua dari 39 adalah 1521\n",
      "Pangkat dua dari 40 adalah 1600\n",
      "Pangkat dua dari 41 adalah 1681\n",
      "Pangkat dua dari 42 adalah 1764\n",
      "Pangkat dua dari 43 adalah 1849\n",
      "Pangkat dua dari 44 adalah 1936\n",
      "Pangkat dua dari 45 adalah 2025\n",
      "Pangkat dua dari 46 adalah 2116\n",
      "Pangkat dua dari 47 adalah 2209\n",
      "Pangkat dua dari 48 adalah 2304\n",
      "Pangkat dua dari 49 adalah 2401\n",
      "Pangkat dua dari 50 adalah 2500\n"
     ]
    }
   ],
   "source": [
    "for i in range(1, 51):\n",
    "    print(f\"Pangkat dua dari {i} adalah {i**2}\")"
   ]
  },
  {
   "attachments": {},
   "cell_type": "markdown",
   "metadata": {},
   "source": [
    "2. Buatlah sebuah list yang berisi daftar nama mahasiswa angkatan kalian minimal sejumlah 10 nama. Kemudian buat program pencarian menggunakan pengulangan, di mana apabila nama yang user inputkan sudah sesuai dengan isi list maka program akan berhenti dan menampilkan output \"Pencarian anda sudah berakhir\""
   ]
  },
  {
   "attachments": {},
   "cell_type": "markdown",
   "metadata": {},
   "source": [
    "catatan: perhatikan user dapat menginputkan menggunakan baik huruf kapital maupun tidak"
   ]
  },
  {
   "cell_type": "code",
   "execution_count": 32,
   "metadata": {},
   "outputs": [
    {
     "name": "stdout",
     "output_type": "stream",
     "text": [
      "Pencarian Anda sudah berakhir\n"
     ]
    }
   ],
   "source": [
    "\n",
    "data = (\"Yusuf\", \"Fahriza\", \"Dafa Hakim\", \"Wadini\", \"Ilham Ryan\", \"Daffaul\", \"Rafli\", \"Rafif\", \"Natan\", \"Arsya\", \"Rafi\", \"Kumara\", \"Naufal\", \"Abid\", \"Hanif\")\n",
    "nama = str(input(\"Masukkan nama :\"))\n",
    "nama.capitalize()\n",
    "\n",
    "for nama in data:\n",
    "    if nama == nama:\n",
    "        print(\"Pencarian Anda sudah berakhir\")\n",
    "        break\n",
    "    else: \n",
    "        print(\"Nama yang Anda cari tidak ada\")\n"
   ]
  },
  {
   "attachments": {},
   "cell_type": "markdown",
   "metadata": {},
   "source": [
    "3. Disajikan list sebagai berikut "
   ]
  },
  {
   "cell_type": "code",
   "execution_count": null,
   "metadata": {},
   "outputs": [],
   "source": [
    "bulan = ['januari', 'februari', 'maret', 'april','mei','juni','juli','agustus','september','oktober','november','desember']\n",
    "kota = ['jakarta' , 'kuala lumpur', 'bangkok', 'seoul', 'canada','london','dubai','barcelona']"
   ]
  },
  {
   "attachments": {},
   "cell_type": "markdown",
   "metadata": {},
   "source": [
    "Robert adalah seorang penyanyi terkenal. Dia merencanakan konser world tour di tahun 2024 mendatang di berbagai negara. Dengan catatan pada bulan April dan Mei, Robert kembali ke indonesia untuk istirahat sejenak kemudian melanjutkan lagi konser. Berdasarkan kasus tersebut buatlah program pengulangannya!"
   ]
  },
  {
   "cell_type": "code",
   "execution_count": 35,
   "metadata": {},
   "outputs": [
    {
     "name": "stdout",
     "output_type": "stream",
     "text": [
      "Robert akan konser di bulan januari di kota jakarta\n",
      "Robert akan konser di bulan februari di kota kuala lumpur\n",
      "Robert akan konser di bulan maret di kota bangkok\n",
      "di bulan april robert mau istirahat\n",
      "di bulan mei robert mau istirahat\n",
      "Robert akan konser di bulan juni di kota seoul\n",
      "Robert akan konser di bulan juli di kota canada\n",
      "Robert akan konser di bulan agustus di kota london\n",
      "Robert akan konser di bulan september di kota dubai\n",
      "Robert akan konser di bulan oktober di kota barcelona\n",
      "Robert akan konser di bulan november di kota barcelona\n",
      "Robert akan konser di bulan desember di kota dubai\n"
     ]
    }
   ],
   "source": [
    "import random\n",
    "bulan = ['januari', 'februari', 'maret', 'april','mei','juni','juli','agustus','september','oktober','november','desember']\n",
    "kota = ['jakarta' , 'kuala lumpur', 'bangkok', 'seoul', 'canada','london','dubai','barcelona']\n",
    "x = 0\n",
    "for bln in bulan:\n",
    "    if bln in ['april', 'mei']:\n",
    "        print(f'di bulan {bln} robert mau istirahat')\n",
    "        continue\n",
    "    print(f'Robert akan konser di bulan {bln} di kota', kota[x])\n",
    "    x+=1\n",
    "    if x == 8:\n",
    "        x = random.randrange(0,8)"
   ]
  }
 ],
 "metadata": {
  "kernelspec": {
   "display_name": "Python 3",
   "language": "python",
   "name": "python3"
  },
  "language_info": {
   "codemirror_mode": {
    "name": "ipython",
    "version": 3
   },
   "file_extension": ".py",
   "mimetype": "text/x-python",
   "name": "python",
   "nbconvert_exporter": "python",
   "pygments_lexer": "ipython3",
   "version": "3.11.2"
  },
  "orig_nbformat": 4
 },
 "nbformat": 4,
 "nbformat_minor": 2
}
