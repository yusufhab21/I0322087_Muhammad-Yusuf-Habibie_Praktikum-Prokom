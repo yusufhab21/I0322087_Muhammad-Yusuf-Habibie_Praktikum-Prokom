{
 "cells": [
  {
   "attachments": {},
   "cell_type": "markdown",
   "metadata": {},
   "source": [
    "### Instruksi:\n",
    "1. Buka buku Learn Python 3 The Hard Way.\n",
    "2. Di bawah ini ada Example dari beberapa Bab yang memuat Operator.\n",
    "3. Silakan kalian bisa latihan dengan melakukan dari yang diinstruksikan pada bagian \"Study Drill\" yang ada di bawah Example\n",
    "4. Bisa dibaca-baca bukunya agar mendapatkan wawasan lebih dari apa yang asisten berikan"
   ]
  },
  {
   "attachments": {},
   "cell_type": "markdown",
   "metadata": {},
   "source": [
    " "
   ]
  },
  {
   "attachments": {},
   "cell_type": "markdown",
   "metadata": {},
   "source": [
    "3: Numbers and Math"
   ]
  },
  {
   "cell_type": "code",
   "execution_count": 15,
   "metadata": {},
   "outputs": [
    {
     "name": "stdout",
     "output_type": "stream",
     "text": [
      "I will now count my chickens:\n",
      "Hens 30.0\n",
      "Roosters 97\n",
      "Now I will count the eggs:\n",
      "6.75\n",
      "Is it true that 3 + 2 < 5 - 7?\n",
      "False\n",
      "What is 3 + 2? 5\n",
      "What is 5 - 7? -2\n",
      "Oh, that's why it's False.\n",
      "How about some more.\n",
      "Is it greater? True\n",
      "Is it greater or equal? True\n",
      "Is it less or equal? False\n"
     ]
    }
   ],
   "source": [
    "# ex3: Numbers and Math\n",
    "\n",
    "print(\"I will now count my chickens:\")\n",
    "\n",
    "print(\"Hens\", 25 + 30 / 6)\n",
    "print(\"Roosters\", 100 -25 * 3 % 4)\n",
    "\n",
    "print(\"Now I will count the eggs:\")\n",
    "\n",
    "print(3 + 2 + 1 - 5 + 4 % 2 - 1 / 4 + 6)\n",
    "\n",
    "print(\"Is it true that 3 + 2 < 5 - 7?\")\n",
    "\n",
    "print(3 + 2 < 5 - 7)\n",
    "\n",
    "print(\"What is 3 + 2?\", 3 + 2)\n",
    "\n",
    "print(\"What is 5 - 7?\", 5 - 7)\n",
    "\n",
    "print(\"Oh, that's why it's False.\")\n",
    "\n",
    "print(\"How about some more.\")\n",
    "\n",
    "print(\"Is it greater?\", 5 > -2)\n",
    "print(\"Is it greater or equal?\", 5 >= -2)\n",
    "print(\"Is it less or equal?\", 5 <= -2)"
   ]
  },
  {
   "cell_type": "code",
   "execution_count": 14,
   "metadata": {},
   "outputs": [
    {
     "name": "stdout",
     "output_type": "stream",
     "text": [
      "Saya ingin menghitung pengeluaran dalam sehari\n",
      "Makan pagi =  12.0\n",
      "Makan malam =  12.0\n",
      "Jajan =  10.0\n",
      "Keperluan lain =  15.0\n",
      "Total pengeluaran sehari adalah  49.0\n",
      "Apakah pengeluran untuk makan > jajan dan keperluan lain? False\n",
      "Berapa total untuk makan? 24.0\n",
      "Berapa total untuk jajan dan lainnya? 25.0\n",
      "Benarkah bahwa selisih pengeluaran makan dan pengeluaran jajanlainnya adalah 1.0? True\n"
     ]
    }
   ],
   "source": [
    "# Menghitung pengeluaran dalam sehari (dalam ribuan) (STUDY DRILL 3)\n",
    "print(\"Saya ingin menghitung pengeluaran dalam sehari\")\n",
    "print(\"Makan pagi = \", 12.0)\n",
    "print(\"Makan malam = \", 12.0)\n",
    "print(\"Jajan = \", 10.0)\n",
    "print(\"Keperluan lain = \", 15.0)\n",
    "print(\"Total pengeluaran sehari adalah \", 49.0)\n",
    "\n",
    "print(\"Apakah pengeluran untuk makan > jajan dan keperluan lain?\", 12.0+12.0 > 12.0+15.0)\n",
    "print(\"Berapa total untuk makan?\", 12.0+12.0)\n",
    "print(\"Berapa total untuk jajan dan lainnya?\", 10.0+15.0)\n",
    "print(\"Benarkah bahwa selisih pengeluaran makan dan pengeluaran jajanlainnya adalah 1.0?\", 25.0 - 24.0 == 1 )\n",
    "\n",
    "\n",
    "\n"
   ]
  },
  {
   "attachments": {},
   "cell_type": "markdown",
   "metadata": {},
   "source": [
    "4: Variables and Names"
   ]
  },
  {
   "cell_type": "code",
   "execution_count": 13,
   "metadata": {},
   "outputs": [
    {
     "name": "stdout",
     "output_type": "stream",
     "text": [
      "There are 100 cars available.\n",
      "There are only 30 drivers available.\n",
      "There will be 70 empty cars today.\n",
      "We can transport 120.0 people today.\n",
      "We have 90 to carpool today.\n",
      "We need to put about 3.0 in each car.\n"
     ]
    }
   ],
   "source": [
    "cars = 100\n",
    "space_in_a_car = 4.0\n",
    "drivers = 30\n",
    "passengers = 90\n",
    "cars_not_driven = cars - drivers\n",
    "cars_driven = drivers\n",
    "carpool_capacity = cars_driven * space_in_a_car\n",
    "average_passengers_per_car = passengers / cars_driven\n",
    "\n",
    "print(\"There are\", cars, \"cars available.\")\n",
    "print(\"There are only\", drivers, \"drivers available.\")\n",
    "print(\"There will be\", cars_not_driven, \"empty cars today.\")\n",
    "print(\"We can transport\", carpool_capacity, \"people today.\")\n",
    "print(\"We have\", passengers, \"to carpool today.\")\n",
    "print(\"We need to put about\", average_passengers_per_car, \"in each car.\")"
   ]
  },
  {
   "cell_type": "code",
   "execution_count": 3,
   "metadata": {},
   "outputs": [
    {
     "name": "stdout",
     "output_type": "stream",
     "text": [
      "There are 100 cars available.\n",
      "There are only 30 drivers available.\n",
      "There will be 70 empty cars today.\n",
      "We can transport 120.0 people today.\n",
      "We have 90 to carpool today.\n",
      "We need to put about 3.0 in each car.\n",
      "PENGEMUDI SEBANYAK =  30 DAN PENUMPANG =  90\n"
     ]
    }
   ],
   "source": [
    "# (STUDY DRILL 4) Berlatih menjelaskan \n",
    "cars = 100\n",
    "space_in_a_car = 4.0\n",
    "drivers = 30\n",
    "passengers = 90\n",
    "cars_not_driven = cars - drivers\n",
    "cars_driven = drivers\n",
    "carpool_capacity = cars_driven * space_in_a_car\n",
    "average_passengers_per_car = passengers / cars_driven\n",
    "\n",
    "print(\"There are\", cars, \"cars available.\")\n",
    "print(\"There are only\", drivers, \"drivers available.\")\n",
    "print(\"There will be\", cars_not_driven, \"empty cars today.\")\n",
    "print(\"We can transport\", carpool_capacity, \"people today.\")\n",
    "print(\"We have\", passengers, \"to carpool today.\")\n",
    "print(\"We need to put about\", average_passengers_per_car, \"in each car.\")\n",
    "\n",
    "# PERTANYAAN DI PYTHON THE HARD WAY\n",
    "# car_pool_capacity tidak terdeteksi/terbaca dikarenakan kode (huruf) yang diinputkan tidak sesuai dengan keterangan yang telah didefinisikan atau diberikan.  \n",
    "# Alasanya, karena di python keterbacaan kode dipengaruhi oleh besar kecilnya huruf, kelengkapan huruf (dari yang sudah didefinisikan sebelumnya).\n",
    "\n",
    "# 1.) Dalam mendefinisikan sebuah bilangan, tipe data yang digunakan adalah integer atau float. Sehingga apabila menjawab pertanyaan terkait jumlah atau yang berkaitan dengan bilangan, maka integer dan float dapat digunakan.\n",
    "#  lalu, bagaimana jika space_in_a_car menggunakan integer 4? kode atau perintah tetap akan terbaca. Namun, jika menggunakan bilangan float akan lebih teliti (rinci)\n",
    "print(\"PENGEMUDI SEBANYAK = \", cars_driven, \"DAN PENUMPANG = \", passengers)\n",
    "\n",
    "\n"
   ]
  },
  {
   "attachments": {},
   "cell_type": "markdown",
   "metadata": {},
   "source": [
    "### Instruksi:\n",
    "1. Tulis ulang kode contoh di atasnya dengan sebelumnya artikan dengan command (#)"
   ]
  },
  {
   "attachments": {},
   "cell_type": "markdown",
   "metadata": {},
   "source": [
    "Contoh\n",
    "\n",
    "Tulis program Python yang dapat menghitung luas dari Lingkaran dengan jari-jari yang diinput!"
   ]
  },
  {
   "cell_type": "code",
   "execution_count": null,
   "metadata": {},
   "outputs": [
    {
     "name": "stdout",
     "output_type": "stream",
     "text": [
      "The area of the circle with radius 7.0 is: 153.93804002589985\n"
     ]
    }
   ],
   "source": [
    "from math import pi\n",
    "r = float(input (\"Input the radius of the circle : \"))\n",
    "print (\"The area of the circle with radius \" + str(r) + \" is: \" + str(pi * r**2))"
   ]
  },
  {
   "cell_type": "code",
   "execution_count": null,
   "metadata": {},
   "outputs": [
    {
     "name": "stdout",
     "output_type": "stream",
     "text": [
      "Luas lingkaran dengan jari-jari 14.0 adalah: 615.7521601035994\n"
     ]
    }
   ],
   "source": [
    "# import pi dari math library\n",
    "from math import pi\n",
    "\n",
    "# membuat variabel untuk user menginputkan nilai jari-jari\n",
    "r = float(input (\"Masukkan jari-jari lingkaran: \"))\n",
    "\n",
    "# Mem-print nilai luas lingkaran sekaligus menghitungnya\n",
    "print (\"Luas lingkaran dengan jari-jari \" + str(r) + \" adalah: \" + str(pi * r**2))"
   ]
  },
  {
   "attachments": {},
   "cell_type": "markdown",
   "metadata": {},
   "source": [
    "5: Tulis program Python untuk tambah, kurang, kali, dan bagi dari dua buah pecahan"
   ]
  },
  {
   "cell_type": "code",
   "execution_count": null,
   "metadata": {},
   "outputs": [
    {
     "name": "stdout",
     "output_type": "stream",
     "text": [
      "2/3 + 3/7 = 23/21\n",
      "2/3 - 3/7 = 5/21\n",
      "2/3 * 3/7 = 2/7\n",
      "2/3 / 3/7 = 14/9\n"
     ]
    }
   ],
   "source": [
    "import fractions\n",
    "\n",
    "f1 = fractions.Fraction(2, 3)\n",
    "f2 = fractions.Fraction(3, 7)\n",
    "\n",
    "print('{} + {} = {}'.format(f1, f2, f1 + f2))\n",
    "print('{} - {} = {}'.format(f1, f2, f1 - f2))\n",
    "print('{} * {} = {}'.format(f1, f2, f1 * f2))\n",
    "print('{} / {} = {}'.format(f1, f2, f1 / f2))"
   ]
  },
  {
   "cell_type": "code",
   "execution_count": null,
   "metadata": {},
   "outputs": [
    {
     "name": "stdout",
     "output_type": "stream",
     "text": [
      "60.0  inci sama dengan 152.4 centimeter\n",
      "70.0  pounds sama dengan  154.35 kilogram\n",
      "========== S E L E S A I ==========\n"
     ]
    }
   ],
   "source": [
    "# (STUDY DRILL 5) MENGUBAH INCI DAN POUND KE CENTI DAN KILO\n",
    "#MASUKKAN NILAI INCI YANG AKAN DIKONVERSI\n",
    "Inci1 = float(input(\"Masukkan nilai inci yang ingin Anda konversi : \"))\n",
    "#MASUKKAN NILAI POUNDS YANG AKAN DIKONVERSI\n",
    "Pounds = float(input(\"Masukkan nilai pounds yang ingin Anda konversi : \"))\n",
    "#KONVERSI NILAI INCI KE CENTI\n",
    "centimeter = Inci1 * 2.54\n",
    "#KONVERSI NILAI POUND KE KILOGRAM\n",
    "kilogram = Pounds * 2.205\n",
    "\n",
    "#PRINT NILAI INCI YANT TELAH DIKONVERSI\n",
    "print (f\"{Inci1}  inci sama dengan {centimeter} centimeter\")\n",
    "#PRINT NILAI POUND YANG TELAH DIKONVERSI\n",
    "print (f\"{Pounds}  pounds sama dengan  {kilogram} kilogram\")\n",
    "print(\"========== S E L E S A I ==========\")\n"
   ]
  },
  {
   "attachments": {},
   "cell_type": "markdown",
   "metadata": {},
   "source": [
    "6: Tulis program Python yang akan menghitung luas dari segitiga dengan alas dan tinggi yang kamu inputkan!"
   ]
  },
  {
   "cell_type": "code",
   "execution_count": null,
   "metadata": {},
   "outputs": [
    {
     "name": "stdout",
     "output_type": "stream",
     "text": [
      "luas =  25.0\n"
     ]
    }
   ],
   "source": [
    "b = int(input(\"Input alas : \"))\n",
    "h = int(input(\"Input tinggi : \"))\n",
    "\n",
    "luas = b*h/2\n",
    "\n",
    "print(\"luas = \", luas)"
   ]
  },
  {
   "cell_type": "code",
   "execution_count": null,
   "metadata": {},
   "outputs": [],
   "source": [
    "# STUDY DRILL 6\n",
    "#MASUKKAN NILAI PANJANG ALAS\n",
    "b = int(input(\"Input alas : \"))\n",
    "#MASUKKAN NILAI TINGGINYA \n",
    "h = int(input(\"Input tinggi : \"))\n",
    "#MENGHITUNG LUAS DARI SEGITIGA\n",
    "luas = b*h/2\n",
    "#CETAK NILAI DARI LUAS\n",
    "print(\"luas = \", luas)"
   ]
  },
  {
   "attachments": {},
   "cell_type": "markdown",
   "metadata": {},
   "source": [
    "7: Tulis program Python yang dapat menghitung luas permukaan dan volume dari Tabung!"
   ]
  },
  {
   "cell_type": "code",
   "execution_count": null,
   "metadata": {},
   "outputs": [
    {
     "name": "stdout",
     "output_type": "stream",
     "text": [
      "Volume tabung adalah:  2772.0\n",
      "Luas permukaan tabung adalah:  1100.0\n"
     ]
    }
   ],
   "source": [
    "pi=22/7\n",
    "tinggi = float(input('Tinggi dari Tabung: '))\n",
    "jarijari = float(input('Jari-jari dari Tabung: '))\n",
    "volume = pi * jarijari * jarijari * tinggi\n",
    "lp = ((2*pi*jarijari) * tinggi) + ((pi*jarijari**2)*2)\n",
    "print(\"Volume tabung adalah: \", volume)\n",
    "print(\"Luas permukaan tabung adalah: \", lp)"
   ]
  },
  {
   "cell_type": "code",
   "execution_count": null,
   "metadata": {},
   "outputs": [],
   "source": [
    "# STUDY DRILL 7\n",
    "# Definisikan konstanta dari pi dengan menggunakan variabel\n",
    "pi=22/7\n",
    "# Input nilai dari tinggi\n",
    "tinggi = float(input('Tinggi dari Tabung: '))\n",
    "# Input nilai dari float\n",
    "jarijari = float(input('Jari-jari dari Tabung: '))\n",
    "# Hitunglah volume dari tabung\n",
    "volume = pi * jarijari * jarijari * tinggi\n",
    "# Definisikan rumus dari luas permukaan tabung\n",
    "lp = ((2*pi*jarijari) * tinggi) + ((pi*jarijari**2)*2)\n",
    "# Print volume tabung\n",
    "print(\"Volume tabung adalah: \", volume)\n",
    "# Print luas permukaan tabung\n",
    "print(\"Luas permukaan tabung adalah: \", lp)\n"
   ]
  },
  {
   "attachments": {},
   "cell_type": "markdown",
   "metadata": {},
   "source": [
    "8: Tulis program Python untuk mendapatkan akar pangkat dua dan pangkat dari nilai desimal yang diberikan!"
   ]
  },
  {
   "cell_type": "code",
   "execution_count": null,
   "metadata": {},
   "outputs": [
    {
     "name": "stdout",
     "output_type": "stream",
     "text": [
      "Akar pangkat dua dari 1.44 adalah : 1.2\n",
      "Pangkat dua dari 1.44  adalah : 4.220695816996552825673328929\n"
     ]
    }
   ],
   "source": [
    "from decimal import *\n",
    "\n",
    "x = Decimal('1.44')\n",
    "print(\"Akar pangkat dua dari\",x, \"adalah :\", x.sqrt())\n",
    "print(\"Pangkat dua dari\",x, \" adalah :\", x.exp())\n"
   ]
  },
  {
   "cell_type": "code",
   "execution_count": null,
   "metadata": {},
   "outputs": [
    {
     "name": "stdout",
     "output_type": "stream",
     "text": [
      "Akar pangkat dua dari 6.78 adalah : 2.603843313258307407403756726\n",
      "Pangkat dua dari 6.78  adalah : 880.0687241078028243598812789\n"
     ]
    }
   ],
   "source": [
    "# STUDY DRILL 8\n",
    "from decimal import *\n",
    "# MASUKKAN NILAI DESIMAL YANG INGIN DIAKARKAN\n",
    "x = Decimal(input(\"MASUKKAN NILAI DESIMALNYA = \"))\n",
    "# CETAK AKAR DARI NILAI DESIMAL YANG DI INPUYKAN\n",
    "print(\"Akar pangkat dua dari\",x, \"adalah :\", x.sqrt())\n",
    "# CETAK PANGKAT DUA DARI NILAI DESIMAL YANG DIINPUTKAN\n",
    "print(\"Pangkat dua dari\",x, \" adalah :\", x.exp())"
   ]
  },
  {
   "attachments": {},
   "cell_type": "markdown",
   "metadata": {},
   "source": [
    "9: Tulis program Python yang dapat menentukan apakah benar bilangan tersebut LEBIH BESAR dari 4^4 DAN jika di-MODULUS-kan 34 hasilnya adalah 4!"
   ]
  },
  {
   "cell_type": "code",
   "execution_count": null,
   "metadata": {},
   "outputs": [
    {
     "name": "stdout",
     "output_type": "stream",
     "text": [
      "Original Integer:\n",
      "922\n",
      "Apakah benar integer tersebut lebih besar dari 4^4 dan hasilnya 4 jika di-mod-kan dengan 34:\n",
      "True\n",
      "\n",
      "Original Integer:\n",
      "914\n",
      "Apakah benar integer tersebut lebih besar dari 4^4 dan hasilnya 4 jika di-mod-kan dengan 34:\n",
      "False\n",
      "\n",
      "Original Integer:\n",
      "854\n",
      "Apakah benar integer tersebut lebih besar dari 4^4 dan hasilnya 4 jika di-mod-kan dengan 34:\n",
      "True\n"
     ]
    }
   ],
   "source": [
    "def test(n):\n",
    "    return n % 34 == 4 and n > 4 ** 4\n",
    "#Definisikan Variabel\n",
    "n = 922\n",
    "print(\"Original Integer:\")\n",
    "#Cetak Variabel\n",
    "print(n)\n",
    "print(\"Apakah benar integer tersebut lebih besar dari 4^4 dan hasilnya 4 jika di-mod-kan dengan 34:\")\n",
    "#Buktikan kebenaran\n",
    "print(test(n))\n",
    "\n",
    "#Definisikan Variabel\n",
    "n = 914\n",
    "print(\"\\nOriginal Integer:\")\n",
    "#Cetak Variabel\n",
    "print(n)\n",
    "print(\"Apakah benar integer tersebut lebih besar dari 4^4 dan hasilnya 4 jika di-mod-kan dengan 34:\")\n",
    "#Buktikan kebenaran\n",
    "print(test(n))\n",
    "\n",
    "#Definisikan Variabel\n",
    "n = 854\n",
    "print(\"\\nOriginal Integer:\")\n",
    "#Cetak Variabel\n",
    "print(n)\n",
    "print(\"Apakah benar integer tersebut lebih besar dari 4^4 dan hasilnya 4 jika di-mod-kan dengan 34:\")\n",
    "#Buktikan kebenaran\n",
    "print(test(n))"
   ]
  },
  {
   "cell_type": "code",
   "execution_count": null,
   "metadata": {},
   "outputs": [],
   "source": [
    "# Kerjakan Study Drill 9 di sini\n",
    "def test(n):\n",
    "    return n % 34 == 4 and n > 4 ** 4\n",
    "\n",
    "n = 922\n",
    "print(\"Original Integer:\")\n",
    "print(n)\n",
    "print(\"Apakah benar integer tersebut lebih besar dari 4^4 dan hasilnya 4 jika di-mod-kan dengan 34:\")\n",
    "\n",
    "print(test(n))\n",
    "\n",
    "n = 914\n",
    "print(\"\\nOriginal Integer:\")\n",
    "print(n)\n",
    "print(\"Apakah benar integer tersebut lebih besar dari 4^4 dan hasilnya 4 jika di-mod-kan dengan 34:\")\n",
    "print(test(n))\n",
    "\n",
    "n = 854\n",
    "print(\"\\nOriginal Integer:\")\n",
    "print(n)\n",
    "print(\"Apakah benar integer tersebut lebih besar dari 4^4 dan hasilnya 4 jika di-mod-kan dengan 34:\")\n",
    "print(test(n))"
   ]
  },
  {
   "attachments": {},
   "cell_type": "markdown",
   "metadata": {},
   "source": [
    "10: Tulis program Python yang dapat menyimpan nama depan dan nama belakang user dan mem-print-nya dengan dibalik antara keduanya!\n"
   ]
  },
  {
   "cell_type": "code",
   "execution_count": null,
   "metadata": {},
   "outputs": [
    {
     "name": "stdout",
     "output_type": "stream",
     "text": [
      "Hello  Habibie Muhammad Yusuf\n"
     ]
    }
   ],
   "source": [
    "fname = input(\"Input your First Name : \")\n",
    "lname = input(\"Input your Last Name : \")\n",
    "print (\"Hello  \", + lname + \" \" + fname)"
   ]
  },
  {
   "cell_type": "code",
   "execution_count": null,
   "metadata": {},
   "outputs": [
    {
     "name": "stdout",
     "output_type": "stream",
     "text": [
      "Hello  Salsabilla Rahima Ugga \n"
     ]
    }
   ],
   "source": [
    "# STUDY DRILL 10\n",
    "\n",
    "# TENTUKAN NAMA VARIABEL NYA DAN APA YANG INGIN DI INPUTKAN\n",
    "fname = input(\"Input your First Name : \")\n",
    "# TENTUKAN NAMA VARIABEL NYA DAN APA YANG INGIN DI INPUTKAN\n",
    "lname = input(\"Input your Last Name : \")\n",
    "# MASUKKAN NILAI DARI VARIABEL YANG SUDAH DIDEFINISIKAN\n",
    "print (\"Hello  \" + lname + \" \" + fname)\n"
   ]
  }
 ],
 "metadata": {
  "kernelspec": {
   "display_name": "Python 3",
   "language": "python",
   "name": "python3"
  },
  "language_info": {
   "codemirror_mode": {
    "name": "ipython",
    "version": 3
   },
   "file_extension": ".py",
   "mimetype": "text/x-python",
   "name": "python",
   "nbconvert_exporter": "python",
   "pygments_lexer": "ipython3",
   "version": "3.11.2"
  },
  "orig_nbformat": 4
 },
 "nbformat": 4,
 "nbformat_minor": 2
}
