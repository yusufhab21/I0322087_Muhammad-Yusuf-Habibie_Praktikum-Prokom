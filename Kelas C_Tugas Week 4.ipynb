{
 "cells": [
  {
   "cell_type": "code",
   "execution_count": null,
   "metadata": {},
   "outputs": [],
   "source": [
    "print(input(\"Nama: \"))\n",
    "print(input(\"NIM: \"))\n",
    "print(input(\"Kelas: \"))"
   ]
  },
  {
   "attachments": {},
   "cell_type": "markdown",
   "metadata": {},
   "source": [
    "## 1."
   ]
  },
  {
   "attachments": {},
   "cell_type": "markdown",
   "metadata": {},
   "source": [
    "Buatlah program yang menampilkan tarif pajak yang harus dibayarkan oleh user dengan input yaitu nama user dan pendapatan dari user.<br>\n",
    "Dengan ketentuan sebagai berikut:\n",
    "* Jika pendapatan kurang dari atau sama dengan 10 juta, maka tarif pajak adalah 2,5%\n",
    "* Jika pendapatan kurang dari atau sama dengan 20 juta, maka tarif pajak adalah 5%\n",
    "* Jika pendapatan kurang dari atau sama dengan 50 juta, maka tarif pajak adalah 10%.\n",
    "* Jika pendapatan lebih dari 50 juta, maka tarif pajak adalah 12,5%.\n",
    "> *note: Kerjakan soal ini dengan percabangan*"
   ]
  },
  {
   "cell_type": "code",
   "execution_count": null,
   "metadata": {},
   "outputs": [
    {
     "name": "stdout",
     "output_type": "stream",
     "text": [
      "=======================================PENENTUAN PAJAK PENDAPATAN=======================================\n",
      "Tarif pajak Anda adalah 12.5% \n",
      "Besar jumlah pajak yang harus Anda bayar adalah =  12.5 Juta\n"
     ]
    }
   ],
   "source": [
    "#PROGRAM PENENTUAN TARIF PAJAK\n",
    "print(\"=======================================PENENTUAN PAJAK PENDAPATAN=======================================\")\n",
    "Nama = str(input(\"Masukkan nama Anda :\"))\n",
    "Pendapatan = float(input(\"Masukkan jumlah pendapatan Anda (dalam juta) :\"))\n",
    "\n",
    "#Percabangan\n",
    "if Pendapatan <= 10:\n",
    "    print(\"Tarif pajak Anda adalah 2.5% \")\n",
    "    besarjumlahpajak = 2.5/100 * Pendapatan\n",
    "    print(\"Besar jumlah pajak yang harus Anda bayar adalah = \",  besarjumlahpajak, \"Juta\")\n",
    "elif Pendapatan <= 20:\n",
    "    print(\"Tarif pajak Anda adalah 5% \")\n",
    "    besarjumlahpajak = 5/100 * Pendapatan\n",
    "    print(\"Besar jumlah pajak yang harus Anda bayar adalah = \", besarjumlahpajak, \"Juta\")\n",
    "elif Pendapatan <= 50:\n",
    "    print(\"Tarif pajak yang harus Anda bayar adalah 10% \")\n",
    "    besarjumlahpajak = 10/100 * Pendapatan\n",
    "    print(\"Besar jumlah pajak yang harus Anda bayar adalah = \", besarjumlahpajak, \"Juta\")\n",
    "elif Pendapatan > 50:\n",
    "    print(\"Tarif pajak Anda adalah 12.5% \")\n",
    "    besarjumlahpajak = 12.5/100 * Pendapatan\n",
    "    print(\"Besar jumlah pajak yang harus Anda bayar adalah = \",besarjumlahpajak, \"Juta\")\n"
   ]
  },
  {
   "attachments": {},
   "cell_type": "markdown",
   "metadata": {},
   "source": [
    "## 2."
   ]
  },
  {
   "attachments": {},
   "cell_type": "markdown",
   "metadata": {},
   "source": [
    "Buatlah program yang menampilkan akan melakukan validasi apakah mahasiswa tersebut berasal dari TI UNS berdasarkan NIM yang diinput oleh user:\n",
    "<br>Dengan ketentuan sebagai berikut:\n",
    "* NIM mahasiswa TI harus dimulai dengan \"I03\" dengan total panjang 8 karakter (I0320078 adalah contoh NIM mahasiswa TI UNS)\n",
    "* Program akan menampilkan pesan \"NIM mahasiswa TI UNS\" jika NIM yang dimasukkan sesuai dengan format yang dijelaskan di atas, dan akan menampilkan pesan \"NIM Anda tidak valid\" jika tidak sesuai.\n",
    "> *note: Kerjakan soal ini dengan percabangan*"
   ]
  },
  {
   "cell_type": "code",
   "execution_count": 10,
   "metadata": {},
   "outputs": [
    {
     "name": "stdout",
     "output_type": "stream",
     "text": [
      "========Validasi NIM Anda========\n",
      "NIM Mahasiswa TI UNS = I0322087\n"
     ]
    }
   ],
   "source": [
    "#PROGRAM PENENTUAN NIM MAHASISWA TI UNS\n",
    "print(\"========Validasi NIM Anda========\")\n",
    "nim = input(\"Masukkan NIM ANDA : \")\n",
    "\n",
    "if (\"I03\" in nim) == True:\n",
    "    if len(nim) == 8:\n",
    "        if nim[3:8].isdecimal() ==True:\n",
    "            print(\"NIM Mahasiswa TI UNS =\", nim )\n",
    "        else:\n",
    "            print('NIM Anda tidak valid')\n",
    "            print('(5 digit terakhir haruslah angka!)')\n",
    "    else:\n",
    "        print('NIM Anda tidak valid')\n",
    "        print('(NIM harus 8 digit!)')\n",
    "else:\n",
    "    print('NIM Anda tidak valid')\n"
   ]
  },
  {
   "cell_type": "code",
   "execution_count": null,
   "metadata": {},
   "outputs": [],
   "source": []
  }
 ],
 "metadata": {
  "kernelspec": {
   "display_name": "Python 3",
   "language": "python",
   "name": "python3"
  },
  "language_info": {
   "codemirror_mode": {
    "name": "ipython",
    "version": 3
   },
   "file_extension": ".py",
   "mimetype": "text/x-python",
   "name": "python",
   "nbconvert_exporter": "python",
   "pygments_lexer": "ipython3",
   "version": "3.11.2"
  },
  "orig_nbformat": 4
 },
 "nbformat": 4,
 "nbformat_minor": 2
}
