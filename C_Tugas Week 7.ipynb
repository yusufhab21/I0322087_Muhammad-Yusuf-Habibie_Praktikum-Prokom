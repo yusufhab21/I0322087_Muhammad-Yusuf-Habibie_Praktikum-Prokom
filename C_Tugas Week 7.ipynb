{
 "cells": [
  {
   "cell_type": "code",
   "execution_count": 7,
   "metadata": {},
   "outputs": [
    {
     "name": "stdout",
     "output_type": "stream",
     "text": [
      "[[2 1 2]\n",
      " [3 2 1]\n",
      " [4 3 2]]\n"
     ]
    }
   ],
   "source": [
    "#Buatlah sebuah fungsi untuk membuat matrix berdasarkan input dari user\n",
    "import numpy as np\n",
    "\n",
    "def create_matrix(baris,kolom):\n",
    "    matrix = [[0 for j in range (kolom)]for i in range (baris)]\n",
    "    for i in range(baris):\n",
    "        for j in range(kolom):\n",
    "            matrix[i][j] =int(input(f\"Masukkan elemen untuk [{i+1}][{j+1}] : \"))\n",
    "    view_matrix = np.array(matrix)\n",
    "    return view_matrix\n",
    "\n",
    "print(create_matrix(baris = int(input('Masukkan Jumlah Baris:\\t')), kolom = int(input('Masukkan Jumlah Kolom:\\t'))))\n"
   ]
  },
  {
   "cell_type": "code",
   "execution_count": 11,
   "metadata": {},
   "outputs": [
    {
     "name": "stdout",
     "output_type": "stream",
     "text": [
      "Matrix: \n",
      "[[5 4]\n",
      " [3 4]]\n",
      "Determinan dari matrix tersebut adalah 8\n"
     ]
    }
   ],
   "source": [
    "#Buatlah sebuah fungsi untuk mencari determinan matrix berdasarkan input matrix dari user\n",
    "import numpy as np\n",
    "\n",
    "def determinan():\n",
    "    baris = int(input('Masukkan baris untuk membuat matrix: '))\n",
    "    kolom = int(input('Masukkan kolom untuk membuat matrix: '))\n",
    "    if baris == 2 and kolom == 2:\n",
    "        det = []\n",
    "        matrix = [[0 for j in range (kolom)]for i in range (baris)]\n",
    "        for i in range(baris):\n",
    "            for j in range(kolom):\n",
    "                matrix[i][j] =int(input(f\"Masukkan elemen untuk [{i+1}][{j+1}] : \"))\n",
    "        view_matrix = np.array(matrix)\n",
    "        print(f'Matrix: \\n{view_matrix}')\n",
    "        hitung_determinan = (matrix[0][0] * matrix[1][1]) - (matrix[0][1] * matrix[1][0])\n",
    "        det.append(hitung_determinan)\n",
    "        int_det = det[0]\n",
    "    elif baris == 3 and kolom == 3:\n",
    "        det = []\n",
    "        matrix = [[0 for j in range (kolom)]for i in range (baris)]\n",
    "        for i in range(baris):\n",
    "            for j in range(kolom):\n",
    "                matrix[i][j] =int(input(f\"Masukkan elemen untuk [{i+1}][{j+1}] : \"))\n",
    "        view_matrix = np.array(matrix)\n",
    "        print(f'Matrix: \\n{view_matrix}')\n",
    "        hitung_determinan = (matrix[0][0] * matrix[1][1] * matrix[2][2]) + (matrix[0][1] * matrix[1][2] * matrix[2][0]) + (matrix[0][2] * matrix[1][0] * matrix[2][1]) - (matrix[0][2] * matrix[1][1] * matrix[2][0]) - (matrix[0][1] * matrix[1][0] * matrix[2][2]) - (matrix[0][0] * matrix[1][2] * matrix[2][1])\n",
    "        det.append(hitung_determinan)\n",
    "        int_det = det[0]\n",
    "    else:\n",
    "        print('Maaf program ini hanya bisa untuk matrix 2x2 dan matrix 3x3')\n",
    "\n",
    "    return int_det\n",
    "print('Determinan dari matrix tersebut adalah', determinan())"
   ]
  },
  {
   "cell_type": "code",
   "execution_count": 5,
   "metadata": {},
   "outputs": [
    {
     "name": "stdout",
     "output_type": "stream",
     "text": [
      "matrik1 =  [[5, 6], [7, 8]]\n",
      "matrik2 =  [[0, 0], [0, 0]]\n",
      "[0, 0]\n",
      "[0, 0]\n"
     ]
    }
   ],
   "source": [
    "#Buatlah fungsi untuk mengakalikan dua buah matrix berdasarkan input user menggunakan nested loop\n",
    "def create_matrix1(row1, column1):\n",
    "    global matrix1\n",
    "    matrix1 = [[0 for j in range(column1)]for i in range(row1)]\n",
    "    for i in range(row1):\n",
    "        for j in range(column1):\n",
    "            matrix1[i][j] = int(input(f\"Masukkan elemen baris ke-{i+1} dan kolom ke-{j+1}: \"))\n",
    "    return matrix1\n",
    "\n",
    "row1 = int(input(\"Masukkan jumlah baris matriks 1 :\"))\n",
    "column1 = int(input(\"Masukkan jumlah kolom matriks 1 :\"))\n",
    "create_matrix1(row1, column1)\n",
    "\n",
    "def create_matrix2(row2, column2):\n",
    "    global matrix2\n",
    "    matrix2 = [[0 for j in range(column2)]for i in range(row2)]\n",
    "    for i in range(row2):\n",
    "        for j in range(column2):\n",
    "            matrix1[i][j] = int(input(f\"Masukkan elemen baris ke-{i+1} dan kolom ke-{j+1}: \"))\n",
    "    return matrix2\n",
    "\n",
    "row2 = int(input(\"Masukkan jumlah baris matriks 2 :\"))\n",
    "column2 = int(input(\"Masukkan jumlah kolom matriks 2 :\"))\n",
    "create_matrix2(row2, column2)\n",
    "\n",
    "def multiply_maxtrix(matrix1,matrix2):\n",
    "    m = len(matrix1)\n",
    "    n = len(matrix2[0])\n",
    "    p = len(matrix2)\n",
    "\n",
    "\n",
    "    result = [[0 for j in range(n)] for i in range (m)]\n",
    "    for i in range (m):\n",
    "        for j in range(n):\n",
    "            for k in range (p):\n",
    "                result [i][j] += matrix1[i][k] * matrix2[k][j]\n",
    "\n",
    "    for r in result:\n",
    "        print(r)\n",
    "        \n",
    "print(\"matrik1 = \", matrix1)\n",
    "print(\"matrik2 = \", matrix2)\n",
    "multiply_maxtrix(matrix1,matrix2)\n",
    "\n",
    "                \n",
    "\n"
   ]
  }
 ],
 "metadata": {
  "kernelspec": {
   "display_name": "Python 3",
   "language": "python",
   "name": "python3"
  },
  "language_info": {
   "codemirror_mode": {
    "name": "ipython",
    "version": 3
   },
   "file_extension": ".py",
   "mimetype": "text/x-python",
   "name": "python",
   "nbconvert_exporter": "python",
   "pygments_lexer": "ipython3",
   "version": "3.11.3"
  },
  "orig_nbformat": 4
 },
 "nbformat": 4,
 "nbformat_minor": 2
}
